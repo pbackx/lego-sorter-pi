{
 "cells": [
  {
   "cell_type": "code",
   "id": "0c88c385",
   "metadata": {
    "ExecuteTime": {
     "end_time": "2024-05-21T19:57:46.085924Z",
     "start_time": "2024-05-21T19:57:46.081720Z"
    }
   },
   "source": [
    "import cv2 as cv\n",
    "from os import listdir\n",
    "import preprocess_lego_image\n",
    "from matplotlib import pyplot as plt\n",
    "import numpy as np\n",
    "import pandas as pd\n",
    "import random\n",
    "import tensorflow as tf\n",
    "tf.config.list_physical_devices('GPU')"
   ],
   "execution_count": 2,
   "outputs": []
  },
  {
   "cell_type": "markdown",
   "id": "64d0b29f",
   "metadata": {},
   "source": "Note that Keras now has a lot more functionality than when I initially wrote some of the below code. Loading data is now much easier with [`image_dataset_from_directory`](https://keras.io/api/data_loading/image/). There are also many [code examples](https://keras.io/examples/) involving image classification that will probably work better than the below code. However, this will give a good introduction and a surprisingly accurate model (at least for my data). "
  },
  {
   "cell_type": "code",
   "id": "5ea04898",
   "metadata": {
    "ExecuteTime": {
     "end_time": "2024-05-21T19:57:46.113654Z",
     "start_time": "2024-05-21T19:57:46.107588Z"
    }
   },
   "source": [
    "data_dir_labeled = '/data/labeled'\n",
    "labels = listdir(data_dir_labeled)\n",
    "labels.sort()\n",
    "labels"
   ],
   "execution_count": 3,
   "outputs": []
  },
  {
   "cell_type": "code",
   "id": "45b139ee",
   "metadata": {
    "ExecuteTime": {
     "end_time": "2024-05-21T19:57:52.104639Z",
     "start_time": "2024-05-21T19:57:46.164919Z"
    }
   },
   "source": [
    "def load_data():\n",
    "    data = []\n",
    "    for label in labels:\n",
    "        label_path = f'{data_dir_labeled}/{label}'\n",
    "        image_paths = listdir(label_path)\n",
    "        for image_path in image_paths:                \n",
    "            image = preprocess_lego_image.preprocess(f'{label_path}/{image_path}')\n",
    "            data.append([label, image])\n",
    "    return data\n",
    "\n",
    "labeled_data = load_data()"
   ],
   "execution_count": 4,
   "outputs": []
  },
  {
   "cell_type": "code",
   "id": "9d568f5c",
   "metadata": {
    "ExecuteTime": {
     "end_time": "2024-05-21T19:57:52.621931Z",
     "start_time": "2024-05-21T19:57:52.106843Z"
    }
   },
   "source": [
    "plt.figure(figsize=(10, 10))\n",
    "i = 0\n",
    "for label, image in random.sample(labeled_data, 9):\n",
    "    ax = plt.subplot(3, 3, i + 1)\n",
    "    plt.imshow(cv.cvtColor(image, cv.COLOR_BGR2RGB))\n",
    "    plt.title(label)\n",
    "    plt.axis(\"off\")\n",
    "    i = i + 1"
   ],
   "execution_count": 5,
   "outputs": []
  },
  {
   "cell_type": "code",
   "id": "c8963300",
   "metadata": {
    "ExecuteTime": {
     "end_time": "2024-05-21T19:57:52.631378Z",
     "start_time": "2024-05-21T19:57:52.623084Z"
    }
   },
   "source": [
    "df = pd.DataFrame(labeled_data,columns = ['label','image'])\n",
    "data_train = df.sample(frac=0.8, random_state=1)\n",
    "data_test = df.drop(data_train.index)\n",
    "print(f'# training data: {len(data_train)}')\n",
    "print(f'# training data: {len(data_test)}')"
   ],
   "execution_count": 6,
   "outputs": []
  },
  {
   "cell_type": "code",
   "id": "4e46b26c",
   "metadata": {
    "ExecuteTime": {
     "end_time": "2024-05-21T19:57:52.649531Z",
     "start_time": "2024-05-21T19:57:52.633774Z"
    }
   },
   "source": [
    "from tensorflow.keras.utils import to_categorical\n",
    "X_train = np.array(data_train.drop(['label'], axis=1))\n",
    "y_train = to_categorical(np.array(data_train['label'].apply(lambda l: labels.index(l))))\n",
    "X_test = np.array(data_test.drop(['label'], axis=1))\n",
    "y_test = to_categorical(np.array(data_test['label'].apply(lambda l: labels.index(l))))"
   ],
   "execution_count": 7,
   "outputs": []
  },
  {
   "cell_type": "code",
   "id": "72498d5a",
   "metadata": {
    "ExecuteTime": {
     "end_time": "2024-05-21T19:57:52.800902Z",
     "start_time": "2024-05-21T19:57:52.650784Z"
    }
   },
   "source": [
    "#sanity check\n",
    "random_index = random.randint(0, len(X_train) - 1)\n",
    "plt.title(labels[np.argmax(y_train[random_index])])\n",
    "plt.imshow(cv.cvtColor(X_train[random_index][0], cv.COLOR_BGR2RGB))"
   ],
   "execution_count": 8,
   "outputs": []
  },
  {
   "cell_type": "code",
   "id": "ac4d06e2",
   "metadata": {
    "ExecuteTime": {
     "end_time": "2024-05-21T19:57:52.842598Z",
     "start_time": "2024-05-21T19:57:52.802530Z"
    }
   },
   "source": [
    "L = []\n",
    "for k in X_train:\n",
    "    L += [k[0]]\n",
    "L = np.array(L)\n",
    "X_train = L\n",
    "X_train.shape"
   ],
   "execution_count": 9,
   "outputs": []
  },
  {
   "cell_type": "code",
   "id": "ea2894e2",
   "metadata": {
    "ExecuteTime": {
     "end_time": "2024-05-21T19:57:52.858491Z",
     "start_time": "2024-05-21T19:57:52.844030Z"
    }
   },
   "source": [
    "P = []\n",
    "for k in X_test:\n",
    "    P += [k[0]]\n",
    "P = np.array(P)\n",
    "X_test = P\n",
    "X_test.shape"
   ],
   "execution_count": 10,
   "outputs": []
  },
  {
   "cell_type": "code",
   "id": "ba39426e",
   "metadata": {
    "ExecuteTime": {
     "end_time": "2024-05-21T19:57:52.863476Z",
     "start_time": "2024-05-21T19:57:52.859905Z"
    }
   },
   "source": [
    "X_test[0].shape"
   ],
   "execution_count": 11,
   "outputs": []
  },
  {
   "cell_type": "code",
   "id": "a3e75846",
   "metadata": {
    "ExecuteTime": {
     "end_time": "2024-05-21T19:57:53.151120Z",
     "start_time": "2024-05-21T19:57:52.864744Z"
    }
   },
   "source": [
    "from tensorflow.keras.applications.vgg16 import VGG16, preprocess_input\n",
    "X_test = preprocess_input(X_test)\n",
    "X_train = preprocess_input(X_train)\n",
    "X_test.shape"
   ],
   "execution_count": 12,
   "outputs": []
  },
  {
   "cell_type": "code",
   "id": "f0e65279",
   "metadata": {
    "ExecuteTime": {
     "end_time": "2024-05-21T20:27:25.491736Z",
     "start_time": "2024-05-21T20:27:18.626836Z"
    }
   },
   "source": [
    "vgg16 = VGG16(weights='imagenet', include_top=False, input_shape=(256,256,3))\n",
    "for layer in vgg16.layers:\n",
    "    layer.trainable = False\n",
    "vgg16.summary()"
   ],
   "execution_count": 26,
   "outputs": []
  },
  {
   "cell_type": "code",
   "id": "f08633a9",
   "metadata": {
    "ExecuteTime": {
     "end_time": "2024-05-21T20:28:39.327909Z",
     "start_time": "2024-05-21T20:28:39.298463Z"
    }
   },
   "source": [
    "x = tf.keras.layers.Flatten()(vgg16.output)\n",
    "x = tf.keras.layers.Dense(512, activation='relu')(x)\n",
    "x = tf.keras.layers.Dense(128, activation='relu')(x)\n",
    "output = tf.keras.layers.Dense(len(labels), activation='softmax')(x)"
   ],
   "execution_count": 27,
   "outputs": []
  },
  {
   "metadata": {
    "ExecuteTime": {
     "end_time": "2024-05-21T20:29:03.148226Z",
     "start_time": "2024-05-21T20:29:03.142714Z"
    }
   },
   "cell_type": "code",
   "source": "model = tf.keras.models.Model(vgg16.input, output)",
   "id": "791115f62b3bc8b7",
   "execution_count": 28,
   "outputs": []
  },
  {
   "cell_type": "code",
   "id": "d0362eaa",
   "metadata": {
    "ExecuteTime": {
     "end_time": "2024-05-21T20:29:05.463883Z",
     "start_time": "2024-05-21T20:29:05.458448Z"
    }
   },
   "source": [
    "model.compile(optimizer=tf.keras.optimizers.SGD(learning_rate=0.01),\n",
    "              loss=tf.keras.losses.MeanSquaredError(),\n",
    "              metrics=['accuracy'])"
   ],
   "execution_count": 29,
   "outputs": []
  },
  {
   "cell_type": "code",
   "id": "921cb340",
   "metadata": {
    "ExecuteTime": {
     "end_time": "2024-05-21T20:29:07.329976Z",
     "start_time": "2024-05-21T20:29:07.309345Z"
    }
   },
   "source": [
    "model.build([None, 256, 256, 3])\n",
    "model.summary()"
   ],
   "execution_count": 30,
   "outputs": []
  },
  {
   "cell_type": "code",
   "id": "f06a9fea",
   "metadata": {
    "tags": [],
    "ExecuteTime": {
     "end_time": "2024-05-21T20:30:46.747615Z",
     "start_time": "2024-05-21T20:29:27.117116Z"
    }
   },
   "source": [
    "model.fit(X_train, y_train, validation_data=(X_test, y_test), epochs=50, batch_size=200, verbose=1)"
   ],
   "execution_count": 31,
   "outputs": []
  },
  {
   "cell_type": "code",
   "id": "a21f2c57",
   "metadata": {
    "ExecuteTime": {
     "end_time": "2024-05-21T20:30:59.293755Z",
     "start_time": "2024-05-21T20:30:57.881810Z"
    }
   },
   "source": [
    "plt.figure(figsize=(10, 10))\n",
    "i = 0\n",
    "for label, image in random.sample(labeled_data, 9):\n",
    "    ax = plt.subplot(3, 3, i + 1)\n",
    "    expected_label, example_image = random.sample(labeled_data, 1)[0]\n",
    "    prediction = model.predict(preprocess_input(np.array([example_image])))\n",
    "    most_likely = np.argmax(prediction)\n",
    "    predicted_label = labels[most_likely]\n",
    "    predicted_prob = prediction[0][most_likely]\n",
    "    plt.title(f'{expected_label}\\n{predicted_label}\\n{predicted_prob}')\n",
    "    plt.imshow(cv.cvtColor(example_image, cv.COLOR_BGR2RGB))\n",
    "    plt.axis(\"off\")\n",
    "    i = i + 1"
   ],
   "execution_count": 32,
   "outputs": []
  },
  {
   "cell_type": "code",
   "id": "0bc25d70",
   "metadata": {
    "ExecuteTime": {
     "end_time": "2024-05-21T20:31:40.520291Z",
     "start_time": "2024-05-21T20:31:40.513778Z"
    }
   },
   "source": [
    "# fine tuning\n",
    "for layer in vgg16.layers:\n",
    "    layer.trainable = False\n",
    "model.compile(optimizer=tf.keras.optimizers.Adam(1e-5),  # Very low learning rate\n",
    "              loss=tf.keras.losses.MeanSquaredError(),\n",
    "              metrics=['accuracy'])"
   ],
   "execution_count": 34,
   "outputs": []
  },
  {
   "cell_type": "code",
   "id": "04c11cd4",
   "metadata": {
    "ExecuteTime": {
     "end_time": "2024-05-21T20:32:15.244597Z",
     "start_time": "2024-05-21T20:31:41.814382Z"
    }
   },
   "source": [
    "model.fit(X_train, y_train, validation_data=(X_test, y_test), epochs=20, batch_size=200, verbose=1)"
   ],
   "execution_count": 35,
   "outputs": []
  },
  {
   "cell_type": "code",
   "id": "6c554457",
   "metadata": {
    "ExecuteTime": {
     "end_time": "2024-05-21T20:32:17.669689Z",
     "start_time": "2024-05-21T20:32:16.418946Z"
    }
   },
   "source": [
    "plt.figure(figsize=(10, 10))\n",
    "i = 0\n",
    "for label, image in random.sample(labeled_data, 9):\n",
    "    ax = plt.subplot(3, 3, i + 1)\n",
    "    expected_label, example_image = random.sample(labeled_data, 1)[0]\n",
    "    prediction = model.predict(preprocess_input(np.array([example_image])))\n",
    "    np.argmax(prediction)\n",
    "    predicted_label = labels[np.argmax(prediction)]\n",
    "    plt.title(f'{expected_label}\\n{predicted_label}')\n",
    "    plt.imshow(cv.cvtColor(example_image, cv.COLOR_BGR2RGB))\n",
    "    plt.axis(\"off\")\n",
    "    i = i + 1"
   ],
   "execution_count": 36,
   "outputs": []
  },
  {
   "cell_type": "code",
   "id": "d82450de",
   "metadata": {
    "ExecuteTime": {
     "end_time": "2024-05-21T20:32:23.609038Z",
     "start_time": "2024-05-21T20:32:22.263951Z"
    }
   },
   "source": "model.save('model.keras')",
   "execution_count": 37,
   "outputs": []
  },
  {
   "metadata": {},
   "cell_type": "markdown",
   "source": "We now have a trained model that is stored in `model.keras`. In the next notebook, we will use this model to classify images and convert it into a REST API that can be used by the Raspberry Pi controlling the LEGO sorter.",
   "id": "a6d227f89cd00722"
  },
  {
   "metadata": {},
   "cell_type": "code",
   "execution_count": null,
   "source": "",
   "id": "4a817b380a6a8c18",
   "outputs": []
  }
 ],
 "metadata": {
  "kernelspec": {
   "display_name": "Python 3",
   "language": "python",
   "name": "python3"
  },
  "language_info": {
   "codemirror_mode": {
    "name": "ipython",
    "version": 3
   },
   "file_extension": ".py",
   "mimetype": "text/x-python",
   "name": "python",
   "nbconvert_exporter": "python",
   "pygments_lexer": "ipython3",
   "version": "3.9.4"
  }
 },
 "nbformat": 4,
 "nbformat_minor": 5
}
