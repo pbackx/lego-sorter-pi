{
 "cells": [
  {
   "cell_type": "code",
   "id": "5b0fd649",
   "metadata": {
    "ExecuteTime": {
     "end_time": "2024-05-21T20:34:35.622750Z",
     "start_time": "2024-05-21T20:34:28.230894Z"
    }
   },
   "source": [
    "import pandas as pd\n",
    "from os import listdir\n",
    "import predict_brick\n",
    "import random"
   ],
   "execution_count": 18,
   "outputs": []
  },
  {
   "metadata": {},
   "cell_type": "markdown",
   "source": "In this example, we will use the model to generate predictions for our data. The helper method `predict_brick` loads the model and will do the required preprocessing before interfering the answer.",
   "id": "3002d70f7d6fe469"
  },
  {
   "cell_type": "code",
   "id": "939f7b96",
   "metadata": {
    "ExecuteTime": {
     "end_time": "2024-05-21T20:34:36.048092Z",
     "start_time": "2024-05-21T20:34:36.043786Z"
    }
   },
   "source": [
    "data_dir_labeled = '/data/labeled'\n",
    "labels = listdir(data_dir_labeled)\n",
    "labels.sort()"
   ],
   "execution_count": 19,
   "outputs": []
  },
  {
   "cell_type": "code",
   "id": "be62b72a",
   "metadata": {
    "ExecuteTime": {
     "end_time": "2024-05-21T20:34:51.882930Z",
     "start_time": "2024-05-21T20:34:50.307242Z"
    }
   },
   "source": [
    "expected_label = random.sample(labels, 1)[0]\n",
    "folder = f'{data_dir_labeled}/{expected_label}'\n",
    "filename = random.sample(listdir(folder), 1)[0]\n",
    "\n",
    "predict_brick.predict(f'{folder}/{filename}')"
   ],
   "execution_count": 21,
   "outputs": []
  },
  {
   "cell_type": "code",
   "id": "08261539",
   "metadata": {
    "ExecuteTime": {
     "end_time": "2024-05-21T20:35:03.279142Z",
     "start_time": "2024-05-21T20:35:02.449938Z"
    }
   },
   "source": [
    "def random_image():\n",
    "    expected_label = random.sample(labels, 1)[0]\n",
    "    folder = f'{data_dir_labeled}/{expected_label}'\n",
    "    filename = random.sample(listdir(folder), 1)[0]\n",
    "    return expected_label, f'{folder}/{filename}'\n",
    "\n",
    "df = pd.DataFrame(data = [random_image() for i in range(10)], columns=['expected', 'filename'])\n",
    "\n",
    "df['predicted'] = df['filename'].apply(lambda filename: predict_brick.predict(filename)[0])\n",
    "df['correct'] = (df['predicted'] == df['expected'])\n",
    "df"
   ],
   "execution_count": 22,
   "outputs": []
  },
  {
   "cell_type": "code",
   "id": "c7bd4945",
   "metadata": {
    "ExecuteTime": {
     "end_time": "2024-05-21T20:35:14.776223Z",
     "start_time": "2024-05-21T20:35:14.772960Z"
    }
   },
   "source": [
    "print('Total: ', len(df))\n",
    "print('Correct: ', df['correct'].sum())"
   ],
   "execution_count": 23,
   "outputs": []
  },
  {
   "metadata": {},
   "cell_type": "markdown",
   "source": "Now that this is working, we create an API server. This code can be found in `predict_server.py`. After you inspect the code in there, return to the main README of the project to finally see the machine in action, working completely independent! ",
   "id": "91a36bc946ef5602"
  }
 ],
 "metadata": {
  "kernelspec": {
   "display_name": "Python 3",
   "language": "python",
   "name": "python3"
  },
  "language_info": {
   "codemirror_mode": {
    "name": "ipython",
    "version": 3
   },
   "file_extension": ".py",
   "mimetype": "text/x-python",
   "name": "python",
   "nbconvert_exporter": "python",
   "pygments_lexer": "ipython3",
   "version": "3.9.4"
  }
 },
 "nbformat": 4,
 "nbformat_minor": 5
}
