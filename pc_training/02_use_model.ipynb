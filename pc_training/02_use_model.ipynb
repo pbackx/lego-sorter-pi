{
 "cells": [
  {
   "cell_type": "code",
   "id": "5b0fd649",
   "metadata": {
    "ExecuteTime": {
     "end_time": "2024-05-21T20:34:35.622750Z",
     "start_time": "2024-05-21T20:34:28.230894Z"
    }
   },
   "source": [
    "import pandas as pd\n",
    "from os import listdir\n",
    "import predict_brick\n",
    "import random"
   ],
   "outputs": [],
   "execution_count": 18
  },
  {
   "metadata": {},
   "cell_type": "markdown",
   "source": "In this example, we will use the model to generate predictions for our data. The helper method `predict_brick` loads the model and will do the required preprocessing before interfering the answer.",
   "id": "3002d70f7d6fe469"
  },
  {
   "cell_type": "code",
   "id": "939f7b96",
   "metadata": {
    "ExecuteTime": {
     "end_time": "2024-05-21T20:34:36.048092Z",
     "start_time": "2024-05-21T20:34:36.043786Z"
    }
   },
   "source": [
    "data_dir_labeled = '/data/labeled'\n",
    "labels = listdir(data_dir_labeled)\n",
    "labels.sort()"
   ],
   "outputs": [],
   "execution_count": 19
  },
  {
   "cell_type": "code",
   "id": "be62b72a",
   "metadata": {
    "ExecuteTime": {
     "end_time": "2024-05-21T20:34:51.882930Z",
     "start_time": "2024-05-21T20:34:50.307242Z"
    }
   },
   "source": [
    "expected_label = random.sample(labels, 1)[0]\n",
    "folder = f'{data_dir_labeled}/{expected_label}'\n",
    "filename = random.sample(listdir(folder), 1)[0]\n",
    "\n",
    "predict_brick.predict(f'{folder}/{filename}')"
   ],
   "outputs": [
    {
     "name": "stderr",
     "output_type": "stream",
     "text": [
      "WARNING: All log messages before absl::InitializeLog() is called are written to STDERR\n",
      "I0000 00:00:1716323690.497793    6440 service.cc:145] XLA service 0x7fcb94003ac0 initialized for platform CUDA (this does not guarantee that XLA will be used). Devices:\n",
      "I0000 00:00:1716323690.497839    6440 service.cc:153]   StreamExecutor device (0): NVIDIA GeForce RTX 3090, Compute Capability 8.6\n",
      "2024-05-21 20:34:50.505697: I tensorflow/compiler/mlir/tensorflow/utils/dump_mlir_util.cc:268] disabling MLIR crash reproducer, set env var `MLIR_CRASH_REPRODUCER_DIRECTORY` to enable.\n",
      "2024-05-21 20:34:50.564876: I external/local_xla/xla/stream_executor/cuda/cuda_dnn.cc:465] Loaded cuDNN version 8906\n"
     ]
    },
    {
     "name": "stdout",
     "output_type": "stream",
     "text": [
      "\u001B[1m1/1\u001B[0m \u001B[32m━━━━━━━━━━━━━━━━━━━━\u001B[0m\u001B[37m\u001B[0m \u001B[1m2s\u001B[0m 2s/step\n"
     ]
    },
    {
     "name": "stderr",
     "output_type": "stream",
     "text": [
      "I0000 00:00:1716323691.868879    6440 device_compiler.h:188] Compiled cluster using XLA!  This line is logged at most once for the lifetime of the process.\n"
     ]
    },
    {
     "data": {
      "text/plain": [
       "('15712tile1x1withopenoclip', 0.99934536)"
      ]
     },
     "execution_count": 21,
     "metadata": {},
     "output_type": "execute_result"
    }
   ],
   "execution_count": 21
  },
  {
   "cell_type": "code",
   "id": "08261539",
   "metadata": {
    "ExecuteTime": {
     "end_time": "2024-05-21T20:35:03.279142Z",
     "start_time": "2024-05-21T20:35:02.449938Z"
    }
   },
   "source": [
    "def random_image():\n",
    "    expected_label = random.sample(labels, 1)[0]\n",
    "    folder = f'{data_dir_labeled}/{expected_label}'\n",
    "    filename = random.sample(listdir(folder), 1)[0]\n",
    "    return expected_label, f'{folder}/{filename}'\n",
    "\n",
    "df = pd.DataFrame(data = [random_image() for i in range(10)], columns=['expected', 'filename'])\n",
    "\n",
    "df['predicted'] = df['filename'].apply(lambda filename: predict_brick.predict(filename)[0])\n",
    "df['correct'] = (df['predicted'] == df['expected'])\n",
    "df"
   ],
   "outputs": [
    {
     "name": "stdout",
     "output_type": "stream",
     "text": [
      "\u001B[1m1/1\u001B[0m \u001B[32m━━━━━━━━━━━━━━━━━━━━\u001B[0m\u001B[37m\u001B[0m \u001B[1m0s\u001B[0m 15ms/step\n",
      "\u001B[1m1/1\u001B[0m \u001B[32m━━━━━━━━━━━━━━━━━━━━\u001B[0m\u001B[37m\u001B[0m \u001B[1m0s\u001B[0m 13ms/step\n",
      "\u001B[1m1/1\u001B[0m \u001B[32m━━━━━━━━━━━━━━━━━━━━\u001B[0m\u001B[37m\u001B[0m \u001B[1m0s\u001B[0m 14ms/step\n",
      "\u001B[1m1/1\u001B[0m \u001B[32m━━━━━━━━━━━━━━━━━━━━\u001B[0m\u001B[37m\u001B[0m \u001B[1m0s\u001B[0m 16ms/step\n",
      "\u001B[1m1/1\u001B[0m \u001B[32m━━━━━━━━━━━━━━━━━━━━\u001B[0m\u001B[37m\u001B[0m \u001B[1m0s\u001B[0m 14ms/step\n",
      "\u001B[1m1/1\u001B[0m \u001B[32m━━━━━━━━━━━━━━━━━━━━\u001B[0m\u001B[37m\u001B[0m \u001B[1m0s\u001B[0m 15ms/step\n",
      "\u001B[1m1/1\u001B[0m \u001B[32m━━━━━━━━━━━━━━━━━━━━\u001B[0m\u001B[37m\u001B[0m \u001B[1m0s\u001B[0m 16ms/step\n",
      "\u001B[1m1/1\u001B[0m \u001B[32m━━━━━━━━━━━━━━━━━━━━\u001B[0m\u001B[37m\u001B[0m \u001B[1m0s\u001B[0m 15ms/step\n",
      "\u001B[1m1/1\u001B[0m \u001B[32m━━━━━━━━━━━━━━━━━━━━\u001B[0m\u001B[37m\u001B[0m \u001B[1m0s\u001B[0m 15ms/step\n",
      "\u001B[1m1/1\u001B[0m \u001B[32m━━━━━━━━━━━━━━━━━━━━\u001B[0m\u001B[37m\u001B[0m \u001B[1m0s\u001B[0m 14ms/step\n"
     ]
    },
    {
     "data": {
      "text/plain": [
       "                    expected  \\\n",
       "0  15712tile1x1withopenoclip   \n",
       "1               3023plate1x2   \n",
       "2               3023plate1x2   \n",
       "3  15712tile1x1withopenoclip   \n",
       "4  15712tile1x1withopenoclip   \n",
       "5  15712tile1x1withopenoclip   \n",
       "6               3023plate1x2   \n",
       "7       43857liftarmthick1x2   \n",
       "8               3023plate1x2   \n",
       "9               3023plate1x2   \n",
       "\n",
       "                                            filename  \\\n",
       "0  /data/labeled/15712tile1x1withopenoclip/202105...   \n",
       "1      /data/labeled/3023plate1x2/20210522092437.jpg   \n",
       "2      /data/labeled/3023plate1x2/20210608145202.jpg   \n",
       "3  /data/labeled/15712tile1x1withopenoclip/202106...   \n",
       "4  /data/labeled/15712tile1x1withopenoclip/202107...   \n",
       "5  /data/labeled/15712tile1x1withopenoclip/202106...   \n",
       "6      /data/labeled/3023plate1x2/20210606174745.jpg   \n",
       "7  /data/labeled/43857liftarmthick1x2/20210608144...   \n",
       "8      /data/labeled/3023plate1x2/20210724115445.jpg   \n",
       "9      /data/labeled/3023plate1x2/20210606174951.jpg   \n",
       "\n",
       "                   predicted  correct  \n",
       "0  15712tile1x1withopenoclip     True  \n",
       "1               3023plate1x2     True  \n",
       "2               3023plate1x2     True  \n",
       "3  15712tile1x1withopenoclip     True  \n",
       "4  15712tile1x1withopenoclip     True  \n",
       "5  15712tile1x1withopenoclip     True  \n",
       "6               3023plate1x2     True  \n",
       "7       43857liftarmthick1x2     True  \n",
       "8               3023plate1x2     True  \n",
       "9               3023plate1x2     True  "
      ],
      "text/html": [
       "<div>\n",
       "<style scoped>\n",
       "    .dataframe tbody tr th:only-of-type {\n",
       "        vertical-align: middle;\n",
       "    }\n",
       "\n",
       "    .dataframe tbody tr th {\n",
       "        vertical-align: top;\n",
       "    }\n",
       "\n",
       "    .dataframe thead th {\n",
       "        text-align: right;\n",
       "    }\n",
       "</style>\n",
       "<table border=\"1\" class=\"dataframe\">\n",
       "  <thead>\n",
       "    <tr style=\"text-align: right;\">\n",
       "      <th></th>\n",
       "      <th>expected</th>\n",
       "      <th>filename</th>\n",
       "      <th>predicted</th>\n",
       "      <th>correct</th>\n",
       "    </tr>\n",
       "  </thead>\n",
       "  <tbody>\n",
       "    <tr>\n",
       "      <th>0</th>\n",
       "      <td>15712tile1x1withopenoclip</td>\n",
       "      <td>/data/labeled/15712tile1x1withopenoclip/202105...</td>\n",
       "      <td>15712tile1x1withopenoclip</td>\n",
       "      <td>True</td>\n",
       "    </tr>\n",
       "    <tr>\n",
       "      <th>1</th>\n",
       "      <td>3023plate1x2</td>\n",
       "      <td>/data/labeled/3023plate1x2/20210522092437.jpg</td>\n",
       "      <td>3023plate1x2</td>\n",
       "      <td>True</td>\n",
       "    </tr>\n",
       "    <tr>\n",
       "      <th>2</th>\n",
       "      <td>3023plate1x2</td>\n",
       "      <td>/data/labeled/3023plate1x2/20210608145202.jpg</td>\n",
       "      <td>3023plate1x2</td>\n",
       "      <td>True</td>\n",
       "    </tr>\n",
       "    <tr>\n",
       "      <th>3</th>\n",
       "      <td>15712tile1x1withopenoclip</td>\n",
       "      <td>/data/labeled/15712tile1x1withopenoclip/202106...</td>\n",
       "      <td>15712tile1x1withopenoclip</td>\n",
       "      <td>True</td>\n",
       "    </tr>\n",
       "    <tr>\n",
       "      <th>4</th>\n",
       "      <td>15712tile1x1withopenoclip</td>\n",
       "      <td>/data/labeled/15712tile1x1withopenoclip/202107...</td>\n",
       "      <td>15712tile1x1withopenoclip</td>\n",
       "      <td>True</td>\n",
       "    </tr>\n",
       "    <tr>\n",
       "      <th>5</th>\n",
       "      <td>15712tile1x1withopenoclip</td>\n",
       "      <td>/data/labeled/15712tile1x1withopenoclip/202106...</td>\n",
       "      <td>15712tile1x1withopenoclip</td>\n",
       "      <td>True</td>\n",
       "    </tr>\n",
       "    <tr>\n",
       "      <th>6</th>\n",
       "      <td>3023plate1x2</td>\n",
       "      <td>/data/labeled/3023plate1x2/20210606174745.jpg</td>\n",
       "      <td>3023plate1x2</td>\n",
       "      <td>True</td>\n",
       "    </tr>\n",
       "    <tr>\n",
       "      <th>7</th>\n",
       "      <td>43857liftarmthick1x2</td>\n",
       "      <td>/data/labeled/43857liftarmthick1x2/20210608144...</td>\n",
       "      <td>43857liftarmthick1x2</td>\n",
       "      <td>True</td>\n",
       "    </tr>\n",
       "    <tr>\n",
       "      <th>8</th>\n",
       "      <td>3023plate1x2</td>\n",
       "      <td>/data/labeled/3023plate1x2/20210724115445.jpg</td>\n",
       "      <td>3023plate1x2</td>\n",
       "      <td>True</td>\n",
       "    </tr>\n",
       "    <tr>\n",
       "      <th>9</th>\n",
       "      <td>3023plate1x2</td>\n",
       "      <td>/data/labeled/3023plate1x2/20210606174951.jpg</td>\n",
       "      <td>3023plate1x2</td>\n",
       "      <td>True</td>\n",
       "    </tr>\n",
       "  </tbody>\n",
       "</table>\n",
       "</div>"
      ]
     },
     "execution_count": 22,
     "metadata": {},
     "output_type": "execute_result"
    }
   ],
   "execution_count": 22
  },
  {
   "cell_type": "code",
   "id": "c7bd4945",
   "metadata": {
    "ExecuteTime": {
     "end_time": "2024-05-21T20:35:14.776223Z",
     "start_time": "2024-05-21T20:35:14.772960Z"
    }
   },
   "source": [
    "print('Total: ', len(df))\n",
    "print('Correct: ', df['correct'].sum())"
   ],
   "outputs": [
    {
     "name": "stdout",
     "output_type": "stream",
     "text": [
      "Total:  10\n",
      "Correct:  10\n"
     ]
    }
   ],
   "execution_count": 23
  },
  {
   "metadata": {},
   "cell_type": "markdown",
   "source": "Now that this is working, we create an API server. This code can be found in `predict_server.py`. After you inspect the code in there, return to the main README of the project to finally see the machine in action, working completely independent! ",
   "id": "91a36bc946ef5602"
  }
 ],
 "metadata": {
  "kernelspec": {
   "display_name": "Python 3",
   "language": "python",
   "name": "python3"
  },
  "language_info": {
   "codemirror_mode": {
    "name": "ipython",
    "version": 3
   },
   "file_extension": ".py",
   "mimetype": "text/x-python",
   "name": "python",
   "nbconvert_exporter": "python",
   "pygments_lexer": "ipython3",
   "version": "3.9.4"
  }
 },
 "nbformat": 4,
 "nbformat_minor": 5
}
