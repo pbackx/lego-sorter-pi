{
 "cells": [
  {
   "cell_type": "code",
   "execution_count": 1,
   "id": "190c8420",
   "metadata": {},
   "outputs": [
    {
     "name": "stdout",
     "output_type": "stream",
     "text": [
      "INFO:tensorflow:Enabling eager execution\n",
      "INFO:tensorflow:Enabling v2 tensorshape\n",
      "INFO:tensorflow:Enabling resource variables\n",
      "INFO:tensorflow:Enabling tensor equality\n",
      "INFO:tensorflow:Enabling control flow v2\n"
     ]
    }
   ],
   "source": [
    "import pandas as pd\n",
    "from os import listdir\n",
    "import predict_brick\n",
    "import random"
   ]
  },
  {
   "cell_type": "code",
   "execution_count": 2,
   "id": "5ce134bb",
   "metadata": {},
   "outputs": [],
   "source": [
    "data_dir_labeled = '..\\\\data\\\\labeled'\n",
    "labels = listdir(data_dir_labeled)\n",
    "labels.sort()"
   ]
  },
  {
   "cell_type": "code",
   "execution_count": 3,
   "id": "b80cb025",
   "metadata": {},
   "outputs": [
    {
     "data": {
      "text/plain": [
       "'43857liftarmthick1x2'"
      ]
     },
     "execution_count": 3,
     "metadata": {},
     "output_type": "execute_result"
    }
   ],
   "source": [
    "expected_label = random.sample(labels, 1)[0]\n",
    "folder = f'{data_dir_labeled}\\\\{expected_label}'\n",
    "filename = random.sample(listdir(folder), 1)[0]\n",
    "\n",
    "predict_brick.predict(f'{folder}\\\\{filename}')"
   ]
  },
  {
   "cell_type": "code",
   "execution_count": 4,
   "id": "c0c9f152",
   "metadata": {},
   "outputs": [
    {
     "data": {
      "text/html": [
       "<div>\n",
       "<style scoped>\n",
       "    .dataframe tbody tr th:only-of-type {\n",
       "        vertical-align: middle;\n",
       "    }\n",
       "\n",
       "    .dataframe tbody tr th {\n",
       "        vertical-align: top;\n",
       "    }\n",
       "\n",
       "    .dataframe thead th {\n",
       "        text-align: right;\n",
       "    }\n",
       "</style>\n",
       "<table border=\"1\" class=\"dataframe\">\n",
       "  <thead>\n",
       "    <tr style=\"text-align: right;\">\n",
       "      <th></th>\n",
       "      <th>expected</th>\n",
       "      <th>filename</th>\n",
       "      <th>predicted</th>\n",
       "      <th>correct</th>\n",
       "    </tr>\n",
       "  </thead>\n",
       "  <tbody>\n",
       "    <tr>\n",
       "      <th>0</th>\n",
       "      <td>15712tile1x1withopenoclip</td>\n",
       "      <td>..\\data\\labeled\\15712tile1x1withopenoclip\\2021...</td>\n",
       "      <td>15712tile1x1withopenoclip</td>\n",
       "      <td>True</td>\n",
       "    </tr>\n",
       "    <tr>\n",
       "      <th>1</th>\n",
       "      <td>3023plate1x2</td>\n",
       "      <td>..\\data\\labeled\\3023plate1x2\\20210501124519.jpg</td>\n",
       "      <td>15712tile1x1withopenoclip</td>\n",
       "      <td>False</td>\n",
       "    </tr>\n",
       "    <tr>\n",
       "      <th>2</th>\n",
       "      <td>15712tile1x1withopenoclip</td>\n",
       "      <td>..\\data\\labeled\\15712tile1x1withopenoclip\\2021...</td>\n",
       "      <td>15712tile1x1withopenoclip</td>\n",
       "      <td>True</td>\n",
       "    </tr>\n",
       "    <tr>\n",
       "      <th>3</th>\n",
       "      <td>3023plate1x2</td>\n",
       "      <td>..\\data\\labeled\\3023plate1x2\\20210516165240.jpg</td>\n",
       "      <td>3023plate1x2</td>\n",
       "      <td>True</td>\n",
       "    </tr>\n",
       "    <tr>\n",
       "      <th>4</th>\n",
       "      <td>43857liftarmthick1x2</td>\n",
       "      <td>..\\data\\labeled\\43857liftarmthick1x2\\202105161...</td>\n",
       "      <td>3023plate1x2</td>\n",
       "      <td>False</td>\n",
       "    </tr>\n",
       "    <tr>\n",
       "      <th>5</th>\n",
       "      <td>43857liftarmthick1x2</td>\n",
       "      <td>..\\data\\labeled\\43857liftarmthick1x2\\202105161...</td>\n",
       "      <td>43857liftarmthick1x2</td>\n",
       "      <td>True</td>\n",
       "    </tr>\n",
       "    <tr>\n",
       "      <th>6</th>\n",
       "      <td>15712tile1x1withopenoclip</td>\n",
       "      <td>..\\data\\labeled\\15712tile1x1withopenoclip\\2021...</td>\n",
       "      <td>15712tile1x1withopenoclip</td>\n",
       "      <td>True</td>\n",
       "    </tr>\n",
       "    <tr>\n",
       "      <th>7</th>\n",
       "      <td>15712tile1x1withopenoclip</td>\n",
       "      <td>..\\data\\labeled\\15712tile1x1withopenoclip\\2021...</td>\n",
       "      <td>15712tile1x1withopenoclip</td>\n",
       "      <td>True</td>\n",
       "    </tr>\n",
       "    <tr>\n",
       "      <th>8</th>\n",
       "      <td>43857liftarmthick1x2</td>\n",
       "      <td>..\\data\\labeled\\43857liftarmthick1x2\\202105161...</td>\n",
       "      <td>43857liftarmthick1x2</td>\n",
       "      <td>True</td>\n",
       "    </tr>\n",
       "    <tr>\n",
       "      <th>9</th>\n",
       "      <td>3023plate1x2</td>\n",
       "      <td>..\\data\\labeled\\3023plate1x2\\20210501123911.jpg</td>\n",
       "      <td>3023plate1x2</td>\n",
       "      <td>True</td>\n",
       "    </tr>\n",
       "  </tbody>\n",
       "</table>\n",
       "</div>"
      ],
      "text/plain": [
       "                    expected  \\\n",
       "0  15712tile1x1withopenoclip   \n",
       "1               3023plate1x2   \n",
       "2  15712tile1x1withopenoclip   \n",
       "3               3023plate1x2   \n",
       "4       43857liftarmthick1x2   \n",
       "5       43857liftarmthick1x2   \n",
       "6  15712tile1x1withopenoclip   \n",
       "7  15712tile1x1withopenoclip   \n",
       "8       43857liftarmthick1x2   \n",
       "9               3023plate1x2   \n",
       "\n",
       "                                            filename  \\\n",
       "0  ..\\data\\labeled\\15712tile1x1withopenoclip\\2021...   \n",
       "1    ..\\data\\labeled\\3023plate1x2\\20210501124519.jpg   \n",
       "2  ..\\data\\labeled\\15712tile1x1withopenoclip\\2021...   \n",
       "3    ..\\data\\labeled\\3023plate1x2\\20210516165240.jpg   \n",
       "4  ..\\data\\labeled\\43857liftarmthick1x2\\202105161...   \n",
       "5  ..\\data\\labeled\\43857liftarmthick1x2\\202105161...   \n",
       "6  ..\\data\\labeled\\15712tile1x1withopenoclip\\2021...   \n",
       "7  ..\\data\\labeled\\15712tile1x1withopenoclip\\2021...   \n",
       "8  ..\\data\\labeled\\43857liftarmthick1x2\\202105161...   \n",
       "9    ..\\data\\labeled\\3023plate1x2\\20210501123911.jpg   \n",
       "\n",
       "                   predicted  correct  \n",
       "0  15712tile1x1withopenoclip     True  \n",
       "1  15712tile1x1withopenoclip    False  \n",
       "2  15712tile1x1withopenoclip     True  \n",
       "3               3023plate1x2     True  \n",
       "4               3023plate1x2    False  \n",
       "5       43857liftarmthick1x2     True  \n",
       "6  15712tile1x1withopenoclip     True  \n",
       "7  15712tile1x1withopenoclip     True  \n",
       "8       43857liftarmthick1x2     True  \n",
       "9               3023plate1x2     True  "
      ]
     },
     "execution_count": 4,
     "metadata": {},
     "output_type": "execute_result"
    }
   ],
   "source": [
    "def random_image():\n",
    "    expected_label = random.sample(labels, 1)[0]\n",
    "    folder = f'{data_dir_labeled}\\\\{expected_label}'\n",
    "    filename = random.sample(listdir(folder), 1)[0]\n",
    "    return expected_label, f'{folder}\\\\{filename}'\n",
    "\n",
    "df = pd.DataFrame(data = [random_image() for i in range(10)], columns=['expected', 'filename'])\n",
    "\n",
    "df['predicted'] = df['filename'].apply(predict_brick.predict)\n",
    "df['correct'] = (df['predicted'] == df['expected'])\n",
    "df"
   ]
  },
  {
   "cell_type": "code",
   "execution_count": 5,
   "id": "a12b699e",
   "metadata": {},
   "outputs": [
    {
     "name": "stdout",
     "output_type": "stream",
     "text": [
      "Total:  10\n",
      "Correct:  8\n"
     ]
    }
   ],
   "source": [
    "print('Total: ', len(df))\n",
    "print('Correct: ', df['correct'].sum())"
   ]
  },
  {
   "cell_type": "code",
   "execution_count": null,
   "id": "c7e36046",
   "metadata": {},
   "outputs": [],
   "source": []
  }
 ],
 "metadata": {
  "kernelspec": {
   "display_name": "Python 3",
   "language": "python",
   "name": "python3"
  },
  "language_info": {
   "codemirror_mode": {
    "name": "ipython",
    "version": 3
   },
   "file_extension": ".py",
   "mimetype": "text/x-python",
   "name": "python",
   "nbconvert_exporter": "python",
   "pygments_lexer": "ipython3",
   "version": "3.9.4"
  }
 },
 "nbformat": 4,
 "nbformat_minor": 5
}
