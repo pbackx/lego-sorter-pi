{
 "cells": [
  {
   "cell_type": "code",
   "execution_count": 8,
   "id": "12a02e86",
   "metadata": {},
   "outputs": [],
   "source": [
    "import pandas as pd\n",
    "from os import listdir\n",
    "import predict_brick\n",
    "import random"
   ]
  },
  {
   "cell_type": "code",
   "execution_count": 2,
   "id": "050d3316",
   "metadata": {},
   "outputs": [],
   "source": [
    "data_dir_labeled = '..\\\\data\\\\labeled'\n",
    "labels = listdir(data_dir_labeled)\n",
    "labels.sort()"
   ]
  },
  {
   "cell_type": "code",
   "execution_count": 6,
   "id": "c73b1bb8",
   "metadata": {},
   "outputs": [
    {
     "data": {
      "text/plain": [
       "'43857liftarmthick1x2'"
      ]
     },
     "execution_count": 6,
     "metadata": {},
     "output_type": "execute_result"
    }
   ],
   "source": [
    "expected_label = random.sample(labels, 10)\n",
    "folder = f'{data_dir_labeled}\\\\{expected_label}'\n",
    "filename = random.sample(listdir(folder), 1)[0]\n",
    "\n",
    "predict_brick.predict(f'{folder}\\\\{filename}')"
   ]
  },
  {
   "cell_type": "code",
   "execution_count": 25,
   "id": "d6dc42cd",
   "metadata": {},
   "outputs": [
    {
     "data": {
      "text/html": [
       "<div>\n",
       "<style scoped>\n",
       "    .dataframe tbody tr th:only-of-type {\n",
       "        vertical-align: middle;\n",
       "    }\n",
       "\n",
       "    .dataframe tbody tr th {\n",
       "        vertical-align: top;\n",
       "    }\n",
       "\n",
       "    .dataframe thead th {\n",
       "        text-align: right;\n",
       "    }\n",
       "</style>\n",
       "<table border=\"1\" class=\"dataframe\">\n",
       "  <thead>\n",
       "    <tr style=\"text-align: right;\">\n",
       "      <th></th>\n",
       "      <th>expected</th>\n",
       "      <th>filename</th>\n",
       "      <th>predicted</th>\n",
       "      <th>correct</th>\n",
       "    </tr>\n",
       "  </thead>\n",
       "  <tbody>\n",
       "    <tr>\n",
       "      <th>0</th>\n",
       "      <td>15712tile1x1withopenoclip</td>\n",
       "      <td>..\\data\\labeled\\15712tile1x1withopenoclip\\2021...</td>\n",
       "      <td>43857liftarmthick1x2</td>\n",
       "      <td>False</td>\n",
       "    </tr>\n",
       "    <tr>\n",
       "      <th>1</th>\n",
       "      <td>43857liftarmthick1x2</td>\n",
       "      <td>..\\data\\labeled\\43857liftarmthick1x2\\202105011...</td>\n",
       "      <td>43857liftarmthick1x2</td>\n",
       "      <td>True</td>\n",
       "    </tr>\n",
       "    <tr>\n",
       "      <th>2</th>\n",
       "      <td>15712tile1x1withopenoclip</td>\n",
       "      <td>..\\data\\labeled\\15712tile1x1withopenoclip\\2021...</td>\n",
       "      <td>43857liftarmthick1x2</td>\n",
       "      <td>False</td>\n",
       "    </tr>\n",
       "    <tr>\n",
       "      <th>3</th>\n",
       "      <td>43857liftarmthick1x2</td>\n",
       "      <td>..\\data\\labeled\\43857liftarmthick1x2\\202105011...</td>\n",
       "      <td>43857liftarmthick1x2</td>\n",
       "      <td>True</td>\n",
       "    </tr>\n",
       "    <tr>\n",
       "      <th>4</th>\n",
       "      <td>15712tile1x1withopenoclip</td>\n",
       "      <td>..\\data\\labeled\\15712tile1x1withopenoclip\\2021...</td>\n",
       "      <td>15712tile1x1withopenoclip</td>\n",
       "      <td>True</td>\n",
       "    </tr>\n",
       "    <tr>\n",
       "      <th>5</th>\n",
       "      <td>3023plate1x2</td>\n",
       "      <td>..\\data\\labeled\\3023plate1x2\\20210501124209.jpg</td>\n",
       "      <td>43857liftarmthick1x2</td>\n",
       "      <td>False</td>\n",
       "    </tr>\n",
       "    <tr>\n",
       "      <th>6</th>\n",
       "      <td>15712tile1x1withopenoclip</td>\n",
       "      <td>..\\data\\labeled\\15712tile1x1withopenoclip\\2021...</td>\n",
       "      <td>43857liftarmthick1x2</td>\n",
       "      <td>False</td>\n",
       "    </tr>\n",
       "    <tr>\n",
       "      <th>7</th>\n",
       "      <td>43857liftarmthick1x2</td>\n",
       "      <td>..\\data\\labeled\\43857liftarmthick1x2\\202105011...</td>\n",
       "      <td>43857liftarmthick1x2</td>\n",
       "      <td>True</td>\n",
       "    </tr>\n",
       "    <tr>\n",
       "      <th>8</th>\n",
       "      <td>43857liftarmthick1x2</td>\n",
       "      <td>..\\data\\labeled\\43857liftarmthick1x2\\202105011...</td>\n",
       "      <td>43857liftarmthick1x2</td>\n",
       "      <td>True</td>\n",
       "    </tr>\n",
       "    <tr>\n",
       "      <th>9</th>\n",
       "      <td>15712tile1x1withopenoclip</td>\n",
       "      <td>..\\data\\labeled\\15712tile1x1withopenoclip\\2021...</td>\n",
       "      <td>15712tile1x1withopenoclip</td>\n",
       "      <td>True</td>\n",
       "    </tr>\n",
       "  </tbody>\n",
       "</table>\n",
       "</div>"
      ],
      "text/plain": [
       "                    expected  \\\n",
       "0  15712tile1x1withopenoclip   \n",
       "1       43857liftarmthick1x2   \n",
       "2  15712tile1x1withopenoclip   \n",
       "3       43857liftarmthick1x2   \n",
       "4  15712tile1x1withopenoclip   \n",
       "5               3023plate1x2   \n",
       "6  15712tile1x1withopenoclip   \n",
       "7       43857liftarmthick1x2   \n",
       "8       43857liftarmthick1x2   \n",
       "9  15712tile1x1withopenoclip   \n",
       "\n",
       "                                            filename  \\\n",
       "0  ..\\data\\labeled\\15712tile1x1withopenoclip\\2021...   \n",
       "1  ..\\data\\labeled\\43857liftarmthick1x2\\202105011...   \n",
       "2  ..\\data\\labeled\\15712tile1x1withopenoclip\\2021...   \n",
       "3  ..\\data\\labeled\\43857liftarmthick1x2\\202105011...   \n",
       "4  ..\\data\\labeled\\15712tile1x1withopenoclip\\2021...   \n",
       "5    ..\\data\\labeled\\3023plate1x2\\20210501124209.jpg   \n",
       "6  ..\\data\\labeled\\15712tile1x1withopenoclip\\2021...   \n",
       "7  ..\\data\\labeled\\43857liftarmthick1x2\\202105011...   \n",
       "8  ..\\data\\labeled\\43857liftarmthick1x2\\202105011...   \n",
       "9  ..\\data\\labeled\\15712tile1x1withopenoclip\\2021...   \n",
       "\n",
       "                   predicted  correct  \n",
       "0       43857liftarmthick1x2    False  \n",
       "1       43857liftarmthick1x2     True  \n",
       "2       43857liftarmthick1x2    False  \n",
       "3       43857liftarmthick1x2     True  \n",
       "4  15712tile1x1withopenoclip     True  \n",
       "5       43857liftarmthick1x2    False  \n",
       "6       43857liftarmthick1x2    False  \n",
       "7       43857liftarmthick1x2     True  \n",
       "8       43857liftarmthick1x2     True  \n",
       "9  15712tile1x1withopenoclip     True  "
      ]
     },
     "execution_count": 25,
     "metadata": {},
     "output_type": "execute_result"
    }
   ],
   "source": [
    "def random_image():\n",
    "    expected_label = random.sample(labels, 1)[0]\n",
    "    folder = f'{data_dir_labeled}\\\\{expected_label}'\n",
    "    filename = random.sample(listdir(folder), 1)[0]\n",
    "    return expected_label, f'{folder}\\\\{filename}'\n",
    "\n",
    "df = pd.DataFrame(data = [random_image() for i in range(10)], columns=['expected', 'filename'])\n",
    "\n",
    "df['predicted'] = df['filename'].apply(predict_brick.predict)\n",
    "df['correct'] = (df['predicted'] == df['expected'])\n",
    "df"
   ]
  },
  {
   "cell_type": "code",
   "execution_count": 27,
   "id": "ce3ca955",
   "metadata": {},
   "outputs": [
    {
     "name": "stdout",
     "output_type": "stream",
     "text": [
      "Total:  10\n",
      "Correct:  6\n"
     ]
    }
   ],
   "source": [
    "print('Total: ', len(df))\n",
    "print('Correct: ', df['correct'].sum())"
   ]
  },
  {
   "cell_type": "code",
   "execution_count": null,
   "id": "82c9e086",
   "metadata": {},
   "outputs": [],
   "source": []
  }
 ],
 "metadata": {
  "kernelspec": {
   "display_name": "Python 3",
   "language": "python",
   "name": "python3"
  },
  "language_info": {
   "codemirror_mode": {
    "name": "ipython",
    "version": 3
   },
   "file_extension": ".py",
   "mimetype": "text/x-python",
   "name": "python",
   "nbconvert_exporter": "python",
   "pygments_lexer": "ipython3",
   "version": "3.9.4"
  }
 },
 "nbformat": 4,
 "nbformat_minor": 5
}
