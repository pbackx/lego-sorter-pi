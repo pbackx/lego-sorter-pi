{
 "cells": [
  {
   "cell_type": "code",
   "execution_count": null,
   "id": "grateful-checklist",
   "metadata": {},
   "outputs": [],
   "source": [
    "import cv2"
   ]
  },
  {
   "cell_type": "code",
   "execution_count": null,
   "id": "piano-brush",
   "metadata": {},
   "outputs": [
    {
     "name": "stdout",
     "output_type": "stream",
     "text": [
      "Collecting opencv-python\n",
      "  Downloading opencv-python-4.5.1.48.tar.gz (88.3 MB)\n",
      "\u001b[K     |████████████████████████████████| 88.3 MB 413 bytes/s  0:00:016   |▋                               | 1.6 MB 2.6 MB/s eta 0:00:34     |█▉                              | 5.2 MB 4.2 MB/s eta 0:00:20     |██                              | 5.4 MB 4.2 MB/s eta 0:00:20     |██▎                             | 6.2 MB 4.2 MB/s eta 0:00:20     |██▍                             | 6.7 MB 4.2 MB/s eta 0:00:20     |███▏                            | 8.7 MB 4.2 MB/s eta 0:00:19     |███▍                            | 9.4 MB 4.2 MB/s eta 0:00:19     |███▌                            | 9.7 MB 4.8 MB/s eta 0:00:17     |███▊                            | 10.4 MB 4.8 MB/s eta 0:00:17     |████                            | 11.2 MB 4.8 MB/s eta 0:00:17     |████▏                           | 11.4 MB 4.8 MB/s eta 0:00:17     |█████▏                          | 14.2 MB 4.8 MB/s eta 0:00:16     |████████                        | 22.3 MB 4.2 MB/s eta 0:00:16     |█████████▎                      | 25.5 MB 4.8 MB/s eta 0:00:14     |██████████▉                     | 29.7 MB 10.6 MB/s eta 0:00:06     |███████████████▎                | 42.3 MB 5.0 MB/s eta 0:00:10     |████████████████▍               | 45.3 MB 4.2 MB/s eta 0:00:11     |██████████████████              | 49.8 MB 5.1 MB/s eta 0:00:08     |██████████████████▎             | 50.5 MB 5.1 MB/s eta 0:00:08     |██████████████████▋             | 51.3 MB 5.1 MB/s eta 0:00:08     |██████████████████▊             | 51.5 MB 5.1 MB/s eta 0:00:08     |█████████████████████▎          | 58.8 MB 4.6 MB/s eta 0:00:07     |█████████████████████▍          | 59.1 MB 4.6 MB/s eta 0:00:07     |█████████████████████████       | 68.9 MB 3.7 MB/s eta 0:00:06     |█████████████████████████▉      | 71.2 MB 3.7 MB/s eta 0:00:05     |████████████████████████████    | 77.5 MB 4.4 MB/s eta 0:00:03\n",
      "\u001b[?25h  Installing build dependencies ... \u001b[?25l\\"
     ]
    }
   ],
   "source": [
    "!pip install opencv-python"
   ]
  },
  {
   "cell_type": "code",
   "execution_count": null,
   "id": "other-cholesterol",
   "metadata": {},
   "outputs": [],
   "source": []
  }
 ],
 "metadata": {
  "kernelspec": {
   "display_name": "Python 3",
   "language": "python",
   "name": "python3"
  },
  "language_info": {
   "codemirror_mode": {
    "name": "ipython",
    "version": 3
   },
   "file_extension": ".py",
   "mimetype": "text/x-python",
   "name": "python",
   "nbconvert_exporter": "python",
   "pygments_lexer": "ipython3",
   "version": "3.9.2"
  }
 },
 "nbformat": 4,
 "nbformat_minor": 5
}
