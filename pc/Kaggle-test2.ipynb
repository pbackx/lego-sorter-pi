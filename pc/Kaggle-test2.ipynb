{
 "cells": [
  {
   "cell_type": "code",
   "execution_count": 1,
   "id": "b4162223",
   "metadata": {},
   "outputs": [
    {
     "name": "stdout",
     "output_type": "stream",
     "text": [
      "INFO:tensorflow:Enabling eager execution\n",
      "INFO:tensorflow:Enabling v2 tensorshape\n",
      "INFO:tensorflow:Enabling resource variables\n",
      "INFO:tensorflow:Enabling tensor equality\n",
      "INFO:tensorflow:Enabling control flow v2\n"
     ]
    }
   ],
   "source": [
    "# original code and data: https://www.kaggle.com/bairongmin/transfer-learning-lego-e95dc0-271346\n",
    "\n",
    "import PIL\n",
    "from keras.datasets import mnist\n",
    "\n",
    "from keras.models import Sequential, load_model\n",
    "\n",
    "from keras.layers import Dense, Dropout, Flatten\n",
    "\n",
    "from keras.layers.convolutional import Conv2D, MaxPooling2D\n",
    "\n",
    "from keras.utils.np_utils import to_categorical\n",
    "from matplotlib import pyplot as plt\n",
    "import seaborn as sns"
   ]
  },
  {
   "cell_type": "code",
   "execution_count": 2,
   "id": "c1690991",
   "metadata": {},
   "outputs": [
    {
     "name": "stdout",
     "output_type": "stream",
     "text": [
      "PNG\n",
      "RGBA\n",
      "(200, 200)\n"
     ]
    }
   ],
   "source": [
    "# load and show an image with Pillow\n",
    "from PIL import Image\n",
    "# load the image\n",
    "image = Image.open(\".\\\\archive\\\\LEGO brick images v1\\\\11214 Bush 3M friction with Cross axle\\\\201706171006-0001.png\")\n",
    "# summarize some details about the image\n",
    "print(image.format)\n",
    "print(image.mode)\n",
    "print(image.size)\n",
    "# show the image"
   ]
  },
  {
   "cell_type": "code",
   "execution_count": 3,
   "id": "bbbd0c91",
   "metadata": {},
   "outputs": [
    {
     "data": {
      "text/plain": [
       "['2357 Brick corner 1x2x2',\n",
       " '3005 Brick 1x1',\n",
       " '3069 Flat Tile 1x2',\n",
       " '18651 Cross Axle 2M with Snap friction',\n",
       " '32123 half Bush']"
      ]
     },
     "execution_count": 3,
     "metadata": {},
     "output_type": "execute_result"
    }
   ],
   "source": [
    "from os import listdir\n",
    "import random\n",
    "\n",
    "list_of_subcategories = listdir('.\\\\archive\\\\LEGO brick images v1')\n",
    "random.sample(list_of_subcategories, 5)"
   ]
  },
  {
   "cell_type": "code",
   "execution_count": 4,
   "id": "8cadeddf",
   "metadata": {},
   "outputs": [
    {
     "name": "stdout",
     "output_type": "stream",
     "text": [
      "float32\n",
      "(200, 200, 4)\n"
     ]
    },
    {
     "data": {
      "image/png": "[encoded data removed]",
      "text/plain": [
       "<Figure size 432x288 with 1 Axes>"
      ]
     },
     "metadata": {
      "needs_background": "light"
     },
     "output_type": "display_data"
    }
   ],
   "source": [
    "from matplotlib import image\n",
    "from matplotlib import pyplot\n",
    "# load image as pixel array\n",
    "data = image.imread('.\\\\archive\\\\LEGO brick images v1\\\\32123 half Bush\\\\201706171506-0004.png')\n",
    "# summarize shape of the pixel array\n",
    "print(data.dtype)\n",
    "print(data.shape)\n",
    "# display the array of pixels as an image\n",
    "pyplot.imshow(data)\n",
    "pyplot.show()"
   ]
  },
  {
   "cell_type": "code",
   "execution_count": 5,
   "id": "76688c31",
   "metadata": {},
   "outputs": [],
   "source": [
    "from keras.preprocessing.image import array_to_img, img_to_array, load_img, ImageDataGenerator\n",
    "def loadBatchImages(path):\n",
    "    catList = listdir(path)\n",
    "    L = []\n",
    "    i = 0\n",
    "    for cat in catList:\n",
    "        deepPath = path+\"/\"+cat+\"/\"\n",
    "        imageList = listdir(deepPath)\n",
    "        indx = 0\n",
    "        for images in imageList:                \n",
    "            img = load_img(deepPath + images)\n",
    "            img = img_to_array(img)\n",
    "            L.append([i,img])\n",
    "        i += 1\n",
    "    return L\n",
    "\n",
    "L = loadBatchImages('.\\\\archive\\\\LEGO brick images v1')"
   ]
  },
  {
   "cell_type": "code",
   "execution_count": 6,
   "id": "05996faa",
   "metadata": {},
   "outputs": [
    {
     "name": "stderr",
     "output_type": "stream",
     "text": [
      "<ipython-input-6-f4a2064cf00d>:2: VisibleDeprecationWarning: Creating an ndarray from ragged nested sequences (which is a list-or-tuple of lists-or-tuples-or ndarrays with different lengths or shapes) is deprecated. If you meant to do this, you must specify 'dtype=object' when creating the ndarray\n",
      "  np.array(L).shape\n"
     ]
    },
    {
     "data": {
      "text/plain": [
       "(6379, 2)"
      ]
     },
     "execution_count": 6,
     "metadata": {},
     "output_type": "execute_result"
    }
   ],
   "source": [
    "import numpy as np\n",
    "np.array(L).shape"
   ]
  },
  {
   "cell_type": "code",
   "execution_count": 7,
   "id": "587b8728",
   "metadata": {},
   "outputs": [
    {
     "data": {
      "text/plain": [
       "(638, 2)"
      ]
     },
     "execution_count": 7,
     "metadata": {},
     "output_type": "execute_result"
    }
   ],
   "source": [
    "import pandas as pd\n",
    "df = pd.DataFrame(L,columns = ['labels','pictures'])\n",
    "data_sample = df.sample(frac=0.5, random_state=1)\n",
    "data_train = data_sample.sample(frac=0.8, random_state=1)\n",
    "data_test = data_sample.drop(data_train.index)\n",
    "np.array(data_test).shape"
   ]
  },
  {
   "cell_type": "code",
   "execution_count": 8,
   "id": "91d26d18",
   "metadata": {},
   "outputs": [],
   "source": [
    "X_train = data_train.drop(['labels'], axis=1)\n",
    "y_train = data_train['labels']\n",
    "X_test = data_test.drop(['labels'], axis=1)\n",
    "y_test = data_test['labels']"
   ]
  },
  {
   "cell_type": "code",
   "execution_count": 9,
   "id": "fbbc95a6",
   "metadata": {},
   "outputs": [
    {
     "name": "stdout",
     "output_type": "stream",
     "text": [
      "6\n",
      "[0. 0. 0. 0. 0. 0. 1. 0. 0. 0. 0. 0. 0. 0. 0. 0.]\n",
      "16\n"
     ]
    }
   ],
   "source": [
    "y = np.array(list(y_train) + list(y_test))\n",
    "print(y[0])\n",
    "y_cat = to_categorical(y)\n",
    "print(y_cat[0])\n",
    "#On a seulement 7 classes :\n",
    "num_classes = y_cat.shape[1]\n",
    "print(num_classes)"
   ]
  },
  {
   "cell_type": "code",
   "execution_count": 10,
   "id": "93e6f458",
   "metadata": {},
   "outputs": [],
   "source": [
    "X_train = np.array(X_train)\n",
    "X_test = np.array(X_test)\n",
    "y_train = np.array(y_train)\n",
    "y_test = np.array(y_test)"
   ]
  },
  {
   "cell_type": "code",
   "execution_count": 11,
   "id": "605e9ffc",
   "metadata": {},
   "outputs": [
    {
     "data": {
      "text/plain": [
       "(2552, 200, 200, 3)"
      ]
     },
     "execution_count": 11,
     "metadata": {},
     "output_type": "execute_result"
    }
   ],
   "source": [
    "L = []\n",
    "for k in X_train:\n",
    "    L += [k[0]]\n",
    "L = np.array(L)\n",
    "X_train = L\n",
    "X_train.shape"
   ]
  },
  {
   "cell_type": "code",
   "execution_count": 12,
   "id": "ac5bc3e9",
   "metadata": {},
   "outputs": [
    {
     "data": {
      "text/plain": [
       "(638, 200, 200, 3)"
      ]
     },
     "execution_count": 12,
     "metadata": {},
     "output_type": "execute_result"
    }
   ],
   "source": [
    "P = []\n",
    "for k in X_test:\n",
    "    P += [k[0]]\n",
    "P = np.array(P)\n",
    "X_test = P\n",
    "X_test.shape"
   ]
  },
  {
   "cell_type": "code",
   "execution_count": 13,
   "id": "e0653d4d",
   "metadata": {},
   "outputs": [],
   "source": [
    "y_train = to_categorical(y_train)\n",
    "y_test = to_categorical(y_test)"
   ]
  },
  {
   "cell_type": "code",
   "execution_count": 17,
   "id": "cc4ccbfc",
   "metadata": {},
   "outputs": [],
   "source": [
    "from keras.applications.vgg16 import VGG16"
   ]
  },
  {
   "cell_type": "code",
   "execution_count": 18,
   "id": "29e4c8f9",
   "metadata": {},
   "outputs": [
    {
     "name": "stdout",
     "output_type": "stream",
     "text": [
      "Downloading data from https://storage.googleapis.com/tensorflow/keras-applications/vgg16/vgg16_weights_tf_dim_ordering_tf_kernels_notop.h5\n",
      "58892288/58889256 [==============================] - 2s 0us/step\n",
      "58900480/58889256 [==============================] - 2s 0us/step\n"
     ]
    }
   ],
   "source": [
    "vgg16 = VGG16(weights='imagenet', include_top=False, input_shape=(200,200,3))\n",
    "vgg16.trainable = False"
   ]
  },
  {
   "cell_type": "code",
   "execution_count": 19,
   "id": "c288370b",
   "metadata": {},
   "outputs": [
    {
     "name": "stdout",
     "output_type": "stream",
     "text": [
      "Model: \"vgg16\"\n",
      "_________________________________________________________________\n",
      "Layer (type)                 Output Shape              Param #   \n",
      "=================================================================\n",
      "input_1 (InputLayer)         [(None, 200, 200, 3)]     0         \n",
      "_________________________________________________________________\n",
      "block1_conv1 (Conv2D)        (None, 200, 200, 64)      1792      \n",
      "_________________________________________________________________\n",
      "block1_conv2 (Conv2D)        (None, 200, 200, 64)      36928     \n",
      "_________________________________________________________________\n",
      "block1_pool (MaxPooling2D)   (None, 100, 100, 64)      0         \n",
      "_________________________________________________________________\n",
      "block2_conv1 (Conv2D)        (None, 100, 100, 128)     73856     \n",
      "_________________________________________________________________\n",
      "block2_conv2 (Conv2D)        (None, 100, 100, 128)     147584    \n",
      "_________________________________________________________________\n",
      "block2_pool (MaxPooling2D)   (None, 50, 50, 128)       0         \n",
      "_________________________________________________________________\n",
      "block3_conv1 (Conv2D)        (None, 50, 50, 256)       295168    \n",
      "_________________________________________________________________\n",
      "block3_conv2 (Conv2D)        (None, 50, 50, 256)       590080    \n",
      "_________________________________________________________________\n",
      "block3_conv3 (Conv2D)        (None, 50, 50, 256)       590080    \n",
      "_________________________________________________________________\n",
      "block3_pool (MaxPooling2D)   (None, 25, 25, 256)       0         \n",
      "_________________________________________________________________\n",
      "block4_conv1 (Conv2D)        (None, 25, 25, 512)       1180160   \n",
      "_________________________________________________________________\n",
      "block4_conv2 (Conv2D)        (None, 25, 25, 512)       2359808   \n",
      "_________________________________________________________________\n",
      "block4_conv3 (Conv2D)        (None, 25, 25, 512)       2359808   \n",
      "_________________________________________________________________\n",
      "block4_pool (MaxPooling2D)   (None, 12, 12, 512)       0         \n",
      "_________________________________________________________________\n",
      "block5_conv1 (Conv2D)        (None, 12, 12, 512)       2359808   \n",
      "_________________________________________________________________\n",
      "block5_conv2 (Conv2D)        (None, 12, 12, 512)       2359808   \n",
      "_________________________________________________________________\n",
      "block5_conv3 (Conv2D)        (None, 12, 12, 512)       2359808   \n",
      "_________________________________________________________________\n",
      "block5_pool (MaxPooling2D)   (None, 6, 6, 512)         0         \n",
      "=================================================================\n",
      "Total params: 14,714,688\n",
      "Trainable params: 0\n",
      "Non-trainable params: 14,714,688\n",
      "_________________________________________________________________\n"
     ]
    }
   ],
   "source": [
    "vgg16.summary()"
   ]
  },
  {
   "cell_type": "code",
   "execution_count": 20,
   "id": "afab4898",
   "metadata": {},
   "outputs": [],
   "source": [
    "model = Sequential()\n",
    "model.add(vgg16)\n",
    "model.add(Flatten())\n",
    "model.add(Dense(512, activation='relu'))\n",
    "model.add(Dense(128, activation='relu'))\n",
    "model.add(Dense(1))"
   ]
  },
  {
   "cell_type": "code",
   "execution_count": 21,
   "id": "5725f24c",
   "metadata": {},
   "outputs": [],
   "source": [
    "model.compile(loss='mean_squared_error', optimizer='adam', metrics=['accuracy'])"
   ]
  },
  {
   "cell_type": "code",
   "execution_count": 22,
   "id": "136998b1",
   "metadata": {},
   "outputs": [
    {
     "name": "stdout",
     "output_type": "stream",
     "text": [
      "Epoch 1/20\n",
      "13/13 [==============================] - 25s 810ms/step - loss: 6684.6356 - accuracy: 0.5362 - val_loss: 56.1532 - val_accuracy: 0.9375\n",
      "Epoch 2/20\n",
      "13/13 [==============================] - 3s 203ms/step - loss: 32.4049 - accuracy: 0.6487 - val_loss: 8.7604 - val_accuracy: 0.0831\n",
      "Epoch 3/20\n",
      "13/13 [==============================] - 3s 205ms/step - loss: 9.0797 - accuracy: 0.3358 - val_loss: 2.2776 - val_accuracy: 0.8881\n",
      "Epoch 4/20\n",
      "13/13 [==============================] - 3s 223ms/step - loss: 2.6789 - accuracy: 0.7326 - val_loss: 1.6862 - val_accuracy: 0.2723\n",
      "Epoch 5/20\n",
      "13/13 [==============================] - 3s 198ms/step - loss: 1.1860 - accuracy: 0.5464 - val_loss: 0.5446 - val_accuracy: 0.8305\n",
      "Epoch 6/20\n",
      "13/13 [==============================] - 3s 212ms/step - loss: 0.5364 - accuracy: 0.7074 - val_loss: 0.4887 - val_accuracy: 0.8580\n",
      "Epoch 7/20\n",
      "13/13 [==============================] - 3s 202ms/step - loss: 0.3924 - accuracy: 0.8021 - val_loss: 0.3299 - val_accuracy: 0.7784\n",
      "Epoch 8/20\n",
      "13/13 [==============================] - 3s 205ms/step - loss: 0.2633 - accuracy: 0.8158 - val_loss: 0.2993 - val_accuracy: 0.7935\n",
      "Epoch 9/20\n",
      "13/13 [==============================] - 3s 200ms/step - loss: 0.2208 - accuracy: 0.8241 - val_loss: 0.2814 - val_accuracy: 0.8031\n",
      "Epoch 10/20\n",
      "13/13 [==============================] - 3s 205ms/step - loss: 0.1960 - accuracy: 0.8465 - val_loss: 0.2668 - val_accuracy: 0.8278\n",
      "Epoch 11/20\n",
      "13/13 [==============================] - 3s 198ms/step - loss: 0.1765 - accuracy: 0.8600 - val_loss: 0.2572 - val_accuracy: 0.8045\n",
      "Epoch 12/20\n",
      "13/13 [==============================] - 3s 198ms/step - loss: 0.1567 - accuracy: 0.8663 - val_loss: 0.2515 - val_accuracy: 0.7880\n",
      "Epoch 13/20\n",
      "13/13 [==============================] - 3s 218ms/step - loss: 0.1570 - accuracy: 0.8688 - val_loss: 0.2390 - val_accuracy: 0.8182\n",
      "Epoch 14/20\n",
      "13/13 [==============================] - 3s 209ms/step - loss: 0.1359 - accuracy: 0.8941 - val_loss: 0.2386 - val_accuracy: 0.8484\n",
      "Epoch 15/20\n",
      "13/13 [==============================] - 3s 206ms/step - loss: 0.1293 - accuracy: 0.8967 - val_loss: 0.2302 - val_accuracy: 0.8058\n",
      "Epoch 16/20\n",
      "13/13 [==============================] - 3s 227ms/step - loss: 0.1238 - accuracy: 0.9002 - val_loss: 0.2297 - val_accuracy: 0.8497\n",
      "Epoch 17/20\n",
      "13/13 [==============================] - 3s 199ms/step - loss: 0.1201 - accuracy: 0.9103 - val_loss: 0.2232 - val_accuracy: 0.8004\n",
      "Epoch 18/20\n",
      "13/13 [==============================] - 3s 217ms/step - loss: 0.1116 - accuracy: 0.9035 - val_loss: 0.2192 - val_accuracy: 0.8401\n",
      "Epoch 19/20\n",
      "13/13 [==============================] - 3s 196ms/step - loss: 0.1048 - accuracy: 0.9213 - val_loss: 0.2166 - val_accuracy: 0.8141\n",
      "Epoch 20/20\n",
      "13/13 [==============================] - 3s 199ms/step - loss: 0.1028 - accuracy: 0.9186 - val_loss: 0.2174 - val_accuracy: 0.8141\n"
     ]
    }
   ],
   "source": [
    "train = model.fit(X_train, y_train, validation_data=(X_test, y_test), epochs=20, batch_size=200, verbose=1)"
   ]
  },
  {
   "cell_type": "code",
   "execution_count": 23,
   "id": "5199b502",
   "metadata": {},
   "outputs": [
    {
     "name": "stdout",
     "output_type": "stream",
     "text": [
      "Score : 81.41%\n"
     ]
    }
   ],
   "source": [
    "# Test\n",
    "scores = model.evaluate(X_test, y_test, verbose=0)\n",
    "print(\"Score : %.2f%%\" % (scores[1]*100))"
   ]
  },
  {
   "cell_type": "code",
   "execution_count": 24,
   "id": "4c2d3c20",
   "metadata": {},
   "outputs": [
    {
     "name": "stdout",
     "output_type": "stream",
     "text": [
      "0 <keras.engine.input_layer.InputLayer object at 0x000001A2322AE670>\n",
      "1 <keras.layers.convolutional.Conv2D object at 0x000001A23264CDC0>\n",
      "2 <keras.layers.convolutional.Conv2D object at 0x000001A23268F400>\n",
      "3 <keras.layers.pooling.MaxPooling2D object at 0x000001A2328367F0>\n",
      "4 <keras.layers.convolutional.Conv2D object at 0x000001A232845580>\n",
      "5 <keras.layers.convolutional.Conv2D object at 0x000001A23283E3A0>\n",
      "6 <keras.layers.pooling.MaxPooling2D object at 0x000001A23282CA90>\n",
      "7 <keras.layers.convolutional.Conv2D object at 0x000001A23282CD60>\n",
      "8 <keras.layers.convolutional.Conv2D object at 0x000001A23283EB50>\n",
      "9 <keras.layers.convolutional.Conv2D object at 0x000001A23284D430>\n",
      "10 <keras.layers.pooling.MaxPooling2D object at 0x000001A23285FD00>\n",
      "11 <keras.layers.convolutional.Conv2D object at 0x000001A232855DC0>\n",
      "12 <keras.layers.convolutional.Conv2D object at 0x000001A23287B760>\n",
      "13 <keras.layers.convolutional.Conv2D object at 0x000001A23287B3A0>\n",
      "14 <keras.layers.pooling.MaxPooling2D object at 0x000001A2328819A0>\n",
      "15 <keras.layers.convolutional.Conv2D object at 0x000001A2328688B0>\n",
      "16 <keras.layers.convolutional.Conv2D object at 0x000001A23288FD00>\n",
      "17 <keras.layers.convolutional.Conv2D object at 0x000001A232874700>\n",
      "18 <keras.layers.pooling.MaxPooling2D object at 0x000001A232A09910>\n"
     ]
    }
   ],
   "source": [
    "for i in range (len(vgg16.layers)):\n",
    "    print (i,vgg16.layers[i])"
   ]
  },
  {
   "cell_type": "code",
   "execution_count": 25,
   "id": "798df54f",
   "metadata": {},
   "outputs": [],
   "source": [
    "for layer in vgg16.layers[15:]:\n",
    "    layer.trainable=True\n",
    "for layer in vgg16.layers[0:15]:\n",
    "    layer.trainable=False"
   ]
  },
  {
   "cell_type": "code",
   "execution_count": 26,
   "id": "963e3ab0",
   "metadata": {},
   "outputs": [
    {
     "name": "stdout",
     "output_type": "stream",
     "text": [
      "Epoch 1/20\n",
      "13/13 [==============================] - 4s 246ms/step - loss: 433.7713 - accuracy: 0.6359 - val_loss: 8.1919 - val_accuracy: 0.7290\n",
      "Epoch 2/20\n",
      "13/13 [==============================] - 3s 196ms/step - loss: 42.3014 - accuracy: 0.4004 - val_loss: 19.9595 - val_accuracy: 0.0872\n",
      "Epoch 3/20\n",
      "13/13 [==============================] - 3s 201ms/step - loss: 10.6095 - accuracy: 0.4700 - val_loss: 1.6719 - val_accuracy: 0.8045\n",
      "Epoch 4/20\n",
      "13/13 [==============================] - 3s 203ms/step - loss: 2.0643 - accuracy: 0.7645 - val_loss: 1.1189 - val_accuracy: 0.7592\n",
      "Epoch 5/20\n",
      "13/13 [==============================] - 3s 200ms/step - loss: 0.9678 - accuracy: 0.6603 - val_loss: 0.5494 - val_accuracy: 0.5974\n",
      "Epoch 6/20\n",
      "13/13 [==============================] - 3s 196ms/step - loss: 0.4467 - accuracy: 0.7454 - val_loss: 0.3463 - val_accuracy: 0.7866\n",
      "Epoch 7/20\n",
      "13/13 [==============================] - 3s 197ms/step - loss: 0.2987 - accuracy: 0.7796 - val_loss: 0.2943 - val_accuracy: 0.7674\n",
      "Epoch 8/20\n",
      "13/13 [==============================] - 3s 198ms/step - loss: 0.2088 - accuracy: 0.8350 - val_loss: 0.2537 - val_accuracy: 0.7757\n",
      "Epoch 9/20\n",
      "13/13 [==============================] - 3s 196ms/step - loss: 0.1696 - accuracy: 0.8451 - val_loss: 0.2444 - val_accuracy: 0.8250\n",
      "Epoch 10/20\n",
      "13/13 [==============================] - 3s 197ms/step - loss: 0.1459 - accuracy: 0.8733 - val_loss: 0.2248 - val_accuracy: 0.8346\n",
      "Epoch 11/20\n",
      "13/13 [==============================] - 3s 198ms/step - loss: 0.1269 - accuracy: 0.8987 - val_loss: 0.2132 - val_accuracy: 0.8374\n",
      "Epoch 12/20\n",
      "13/13 [==============================] - 3s 197ms/step - loss: 0.1188 - accuracy: 0.9052 - val_loss: 0.2019 - val_accuracy: 0.8470\n",
      "Epoch 13/20\n",
      "13/13 [==============================] - 3s 198ms/step - loss: 0.1089 - accuracy: 0.9158 - val_loss: 0.1956 - val_accuracy: 0.8552\n",
      "Epoch 14/20\n",
      "13/13 [==============================] - 3s 198ms/step - loss: 0.1045 - accuracy: 0.9213 - val_loss: 0.1924 - val_accuracy: 0.8511\n",
      "Epoch 15/20\n",
      "13/13 [==============================] - 3s 197ms/step - loss: 0.0989 - accuracy: 0.9222 - val_loss: 0.1881 - val_accuracy: 0.8621\n",
      "Epoch 16/20\n",
      "13/13 [==============================] - 3s 208ms/step - loss: 0.0929 - accuracy: 0.9263 - val_loss: 0.1875 - val_accuracy: 0.8676\n",
      "Epoch 17/20\n",
      "13/13 [==============================] - 3s 198ms/step - loss: 0.0888 - accuracy: 0.9294 - val_loss: 0.1857 - val_accuracy: 0.8717\n",
      "Epoch 18/20\n",
      "13/13 [==============================] - 2s 195ms/step - loss: 0.0855 - accuracy: 0.9320 - val_loss: 0.1824 - val_accuracy: 0.8730\n",
      "Epoch 19/20\n",
      "13/13 [==============================] - 2s 192ms/step - loss: 0.0830 - accuracy: 0.9353 - val_loss: 0.1803 - val_accuracy: 0.8648\n",
      "Epoch 20/20\n",
      "13/13 [==============================] - 2s 192ms/step - loss: 0.0807 - accuracy: 0.9350 - val_loss: 0.1813 - val_accuracy: 0.8785\n"
     ]
    }
   ],
   "source": [
    "model.compile(loss='mean_squared_error', optimizer='adam', metrics=['accuracy'])\n",
    "train = model.fit(X_train, y_train, validation_data=(X_test, y_test), epochs=20, batch_size=200, verbose=1)"
   ]
  },
  {
   "cell_type": "code",
   "execution_count": 27,
   "id": "c4312e89",
   "metadata": {},
   "outputs": [
    {
     "name": "stdout",
     "output_type": "stream",
     "text": [
      "Score : 87.99%\n"
     ]
    }
   ],
   "source": [
    "scores = model.evaluate(X_test, y_test, verbose=0)\n",
    "print(\"Score : %.2f%%\" % (scores[1]*100))"
   ]
  },
  {
   "cell_type": "code",
   "execution_count": 28,
   "id": "bb16430f",
   "metadata": {},
   "outputs": [],
   "source": [
    "def plot_scores(train) :\n",
    "    accuracy = train.history['accuracy']\n",
    "    val_accuracy = train.history['val_accuracy']\n",
    "    epochs = range(len(accuracy))\n",
    "    plt.plot(epochs, accuracy, 'b', label='Score apprentissage')\n",
    "    plt.plot(epochs, val_accuracy, 'r', label='Score validation')\n",
    "    plt.title('Scores')\n",
    "    plt.legend()\n",
    "    plt.show()"
   ]
  },
  {
   "cell_type": "code",
   "execution_count": 29,
   "id": "45786a6f",
   "metadata": {},
   "outputs": [
    {
     "data": {
      "image/png": "[encoded data removed]",
      "text/plain": [
       "<Figure size 432x288 with 1 Axes>"
      ]
     },
     "metadata": {
      "needs_background": "light"
     },
     "output_type": "display_data"
    }
   ],
   "source": [
    "plot_scores(train)"
   ]
  },
  {
   "cell_type": "code",
   "execution_count": null,
   "id": "a5b02040",
   "metadata": {},
   "outputs": [],
   "source": []
  }
 ],
 "metadata": {
  "kernelspec": {
   "display_name": "Python 3",
   "language": "python",
   "name": "python3"
  },
  "language_info": {
   "codemirror_mode": {
    "name": "ipython",
    "version": 3
   },
   "file_extension": ".py",
   "mimetype": "text/x-python",
   "name": "python",
   "nbconvert_exporter": "python",
   "pygments_lexer": "ipython3",
   "version": "3.9.4"
  }
 },
 "nbformat": 4,
 "nbformat_minor": 5
}
