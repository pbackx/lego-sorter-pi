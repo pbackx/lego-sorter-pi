{
 "cells": [
  {
   "cell_type": "code",
   "execution_count": 1,
   "id": "focal-arbitration",
   "metadata": {},
   "outputs": [],
   "source": [
    "from motor_control import MotorControl\n",
    "from time import sleep\n",
    "motor_control = MotorControl('192.168.50.222', 80)"
   ]
  },
  {
   "cell_type": "code",
   "execution_count": 20,
   "id": "democratic-mississippi",
   "metadata": {},
   "outputs": [],
   "source": [
    "ev3dev2_sensor = motor_control.ev3_connection.modules['ev3dev2.sensor']\n",
    "ev3dev2_sensor_lego = motor_control.ev3_connection.modules['ev3dev2.sensor.lego']"
   ]
  },
  {
   "cell_type": "code",
   "execution_count": 21,
   "id": "associate-wings",
   "metadata": {},
   "outputs": [],
   "source": [
    "color_sensor = ev3dev2_sensor_lego.ColorSensor(ev3dev2_sensor.INPUT_4)"
   ]
  },
  {
   "cell_type": "code",
   "execution_count": 22,
   "id": "classified-eating",
   "metadata": {},
   "outputs": [
    {
     "data": {
      "text/plain": [
       "0"
      ]
     },
     "execution_count": 22,
     "metadata": {},
     "output_type": "execute_result"
    }
   ],
   "source": [
    "color_sensor.mode = color_sensor.MODE_COL_REFLECT\n",
    "color_sensor.reflected_light_intensity"
   ]
  },
  {
   "cell_type": "code",
   "execution_count": 12,
   "id": "quick-remark",
   "metadata": {},
   "outputs": [],
   "source": [
    "half_speed = motor_control.turntable.max_speed/2\n",
    "motor_control.turntable.speed_sp = half_speed"
   ]
  },
  {
   "cell_type": "code",
   "execution_count": 41,
   "id": "tested-prevention",
   "metadata": {},
   "outputs": [
    {
     "data": {
      "text/plain": [
       "780.0"
      ]
     },
     "execution_count": 41,
     "metadata": {},
     "output_type": "execute_result"
    }
   ],
   "source": [
    "half_speed"
   ]
  },
  {
   "cell_type": "code",
   "execution_count": 28,
   "id": "expanded-china",
   "metadata": {},
   "outputs": [],
   "source": [
    "motor_control.turntable.stop()"
   ]
  },
  {
   "cell_type": "code",
   "execution_count": 15,
   "id": "statewide-windsor",
   "metadata": {},
   "outputs": [
    {
     "data": {
      "text/plain": [
       "0"
      ]
     },
     "execution_count": 15,
     "metadata": {},
     "output_type": "execute_result"
    }
   ],
   "source": []
  },
  {
   "cell_type": "code",
   "execution_count": 45,
   "id": "excess-treatment",
   "metadata": {},
   "outputs": [],
   "source": [
    "motor_control.turntable.speed_sp = -half_speed\n",
    "motor_control.turntable.run_forever()\n",
    "sleep(0.5)\n",
    "for i in range(100):\n",
    "    intensity = color_sensor.reflected_light_intensity\n",
    "    if intensity > 0:\n",
    "        motor_control.turntable.stop()\n",
    "        break\n",
    "    sleep(0.25)"
   ]
  },
  {
   "cell_type": "code",
   "execution_count": 8,
   "id": "distinguished-shuttle",
   "metadata": {},
   "outputs": [],
   "source": [
    "motor_control.tune_turntable()"
   ]
  },
  {
   "cell_type": "code",
   "execution_count": 13,
   "id": "athletic-queue",
   "metadata": {},
   "outputs": [],
   "source": [
    "motor_control.move_turntable(0)"
   ]
  },
  {
   "cell_type": "code",
   "execution_count": 5,
   "id": "related-addition",
   "metadata": {},
   "outputs": [],
   "source": [
    "motor_control.turntable_current_position = 0"
   ]
  },
  {
   "cell_type": "code",
   "execution_count": null,
   "id": "conventional-fossil",
   "metadata": {},
   "outputs": [],
   "source": []
  }
 ],
 "metadata": {
  "kernelspec": {
   "display_name": "Python 3",
   "language": "python",
   "name": "python3"
  },
  "language_info": {
   "codemirror_mode": {
    "name": "ipython",
    "version": 3
   },
   "file_extension": ".py",
   "mimetype": "text/x-python",
   "name": "python",
   "nbconvert_exporter": "python",
   "pygments_lexer": "ipython3",
   "version": "3.7.3"
  }
 },
 "nbformat": 4,
 "nbformat_minor": 5
}
