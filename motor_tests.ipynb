{
 "cells": [
  {
   "cell_type": "code",
   "execution_count": 1,
   "id": "subject-thesaurus",
   "metadata": {},
   "outputs": [],
   "source": [
    "from motor_control import MotorControl\n",
    "motor_control = MotorControl('192.168.50.222', 80)"
   ]
  },
  {
   "cell_type": "code",
   "execution_count": 2,
   "id": "acoustic-benchmark",
   "metadata": {},
   "outputs": [],
   "source": [
    "ev3dev2_sensor = motor_control.ev3_connection.modules['ev3dev2.sensor']\n",
    "ev3dev2_sensor_lego = motor_control.ev3_connection.modules['ev3dev2.sensor.lego']"
   ]
  },
  {
   "cell_type": "code",
   "execution_count": 3,
   "id": "alike-cyprus",
   "metadata": {},
   "outputs": [],
   "source": [
    "color_sensor = ev3dev2_sensor_lego.ColorSensor(ev3dev2_sensor.INPUT_4)"
   ]
  },
  {
   "cell_type": "code",
   "execution_count": 4,
   "id": "settled-lloyd",
   "metadata": {},
   "outputs": [
    {
     "data": {
      "text/plain": [
       "0"
      ]
     },
     "execution_count": 4,
     "metadata": {},
     "output_type": "execute_result"
    }
   ],
   "source": [
    "color_sensor.mode = color_sensor.MODE_COL_REFLECT\n",
    "color_sensor.reflected_light_intensity"
   ]
  },
  {
   "cell_type": "code",
   "execution_count": 21,
   "id": "sensitive-nowhere",
   "metadata": {},
   "outputs": [],
   "source": [
    "motor_control.tune_turntable(0.1)"
   ]
  },
  {
   "cell_type": "code",
   "execution_count": 22,
   "id": "informed-lyric",
   "metadata": {},
   "outputs": [
    {
     "data": {
      "text/plain": [
       "0"
      ]
     },
     "execution_count": 22,
     "metadata": {},
     "output_type": "execute_result"
    }
   ],
   "source": [
    "color_sensor.reflected_light_intensity"
   ]
  },
  {
   "cell_type": "code",
   "execution_count": null,
   "id": "ongoing-blocking",
   "metadata": {},
   "outputs": [],
   "source": []
  }
 ],
 "metadata": {
  "kernelspec": {
   "display_name": "Python 3",
   "language": "python",
   "name": "python3"
  },
  "language_info": {
   "codemirror_mode": {
    "name": "ipython",
    "version": 3
   },
   "file_extension": ".py",
   "mimetype": "text/x-python",
   "name": "python",
   "nbconvert_exporter": "python",
   "pygments_lexer": "ipython3",
   "version": "3.7.3"
  }
 },
 "nbformat": 4,
 "nbformat_minor": 5
}
