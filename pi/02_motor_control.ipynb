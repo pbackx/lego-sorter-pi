{
 "cells": [
  {
   "cell_type": "markdown",
   "id": "97c576e4-f011-44db-836b-3d998d7cfdbd",
   "metadata": {},
   "source": [
    "# Testing the motor control over MQTT\n",
    "\n",
    "This notebook tests the functionality for sending commands via MQTT to the EV3 that controls the motors."
   ]
  },
  {
   "cell_type": "code",
   "id": "54b1c249-433a-4571-80aa-3703cb19755c",
   "metadata": {
    "ExecuteTime": {
     "end_time": "2024-04-27T07:37:17.646809Z",
     "start_time": "2024-04-27T07:37:16.935218Z"
    }
   },
   "source": [
    "import paho.mqtt.client as mqtt\n",
    "client = mqtt.Client(mqtt.CallbackAPIVersion.VERSION2)\n",
    "client.connect('ev3dev.local', 1883, 60)\n",
    "client.loop_start()"
   ],
   "outputs": [
    {
     "data": {
      "text/plain": [
       "<MQTTErrorCode.MQTT_ERR_SUCCESS: 0>"
      ]
     },
     "execution_count": 1,
     "metadata": {},
     "output_type": "execute_result"
    }
   ],
   "execution_count": 1
  },
  {
   "cell_type": "markdown",
   "source": "Let's try all the commands to see if they work",
   "metadata": {
    "collapsed": false
   },
   "id": "d3b1d4fd3eac3064"
  },
  {
   "cell_type": "code",
   "source": [
    "# This will move the turntable to bucket 2\n",
    "# Feel free to try with different numbers, the same number should always end up on the same bucket\n",
    "client.publish('sorter/move_turntable', 2)"
   ],
   "metadata": {
    "collapsed": false,
    "ExecuteTime": {
     "end_time": "2024-04-27T07:37:59.539219Z",
     "start_time": "2024-04-27T07:37:59.508601Z"
    }
   },
   "id": "7230f2110fce8215",
   "outputs": [
    {
     "data": {
      "text/plain": [
       "<paho.mqtt.client.MQTTMessageInfo at 0x7f69db9580>"
      ]
     },
     "execution_count": 2,
     "metadata": {},
     "output_type": "execute_result"
    }
   ],
   "execution_count": 2
  },
  {
   "cell_type": "code",
   "source": [
    "# This will move all belts\n",
    "client.publish('sorter/on')"
   ],
   "metadata": {
    "collapsed": false,
    "ExecuteTime": {
     "end_time": "2024-04-27T07:38:05.249631Z",
     "start_time": "2024-04-27T07:38:05.222766Z"
    }
   },
   "id": "4bec56b7bcc56d4",
   "outputs": [
    {
     "data": {
      "text/plain": [
       "<paho.mqtt.client.MQTTMessageInfo at 0x7f69c08130>"
      ]
     },
     "execution_count": 3,
     "metadata": {},
     "output_type": "execute_result"
    }
   ],
   "execution_count": 3
  },
  {
   "cell_type": "code",
   "source": [
    "# This will stop all belts\n",
    "client.publish('sorter/off')"
   ],
   "metadata": {
    "collapsed": false,
    "ExecuteTime": {
     "end_time": "2024-04-27T07:38:13.340540Z",
     "start_time": "2024-04-27T07:38:13.323643Z"
    }
   },
   "id": "39cd69ad1092a99a",
   "outputs": [
    {
     "data": {
      "text/plain": [
       "<paho.mqtt.client.MQTTMessageInfo at 0x7f69c22e30>"
      ]
     },
     "execution_count": 4,
     "metadata": {},
     "output_type": "execute_result"
    }
   ],
   "execution_count": 4
  },
  {
   "cell_type": "code",
   "source": [
    "# This will move the belt with the camera. This call is used to position the brick in the center of the image\n",
    "# 320 is the center of the image, so no movement will happen\n",
    "client.publish('sorter/move_to_center', 320)"
   ],
   "metadata": {
    "collapsed": false,
    "ExecuteTime": {
     "end_time": "2024-04-27T07:38:37.289315Z",
     "start_time": "2024-04-27T07:38:37.264686Z"
    }
   },
   "id": "e1746022f4ee8991",
   "outputs": [
    {
     "data": {
      "text/plain": [
       "<paho.mqtt.client.MQTTMessageInfo at 0x7f69c7cdb0>"
      ]
     },
     "execution_count": 6,
     "metadata": {},
     "output_type": "execute_result"
    }
   ],
   "execution_count": 6
  },
  {
   "metadata": {
    "ExecuteTime": {
     "end_time": "2024-04-27T07:39:53.656588Z",
     "start_time": "2024-04-27T07:39:53.647163Z"
    }
   },
   "cell_type": "code",
   "source": [
    "# 0 will move the brick away from the buckets\n",
    "client.publish('sorter/move_to_center', 0)"
   ],
   "id": "d42bc41591a506f2",
   "outputs": [
    {
     "data": {
      "text/plain": [
       "<paho.mqtt.client.MQTTMessageInfo at 0x7f802af510>"
      ]
     },
     "execution_count": 7,
     "metadata": {},
     "output_type": "execute_result"
    }
   ],
   "execution_count": 7
  },
  {
   "metadata": {
    "ExecuteTime": {
     "end_time": "2024-04-27T07:40:11.469096Z",
     "start_time": "2024-04-27T07:40:11.459249Z"
    }
   },
   "cell_type": "code",
   "source": [
    "# 640 towards the buckets\n",
    "client.publish('sorter/move_to_center', 640)"
   ],
   "id": "8beaab45101121bf",
   "outputs": [
    {
     "data": {
      "text/plain": [
       "<paho.mqtt.client.MQTTMessageInfo at 0x7f69be13f0>"
      ]
     },
     "execution_count": 8,
     "metadata": {},
     "output_type": "execute_result"
    }
   ],
   "execution_count": 8
  },
  {
   "cell_type": "code",
   "source": [
    "# The final command will move any brick(s) on the belt into the current bucket\n",
    "client.publish('sorter/clear_camera_belt')"
   ],
   "metadata": {
    "collapsed": false,
    "ExecuteTime": {
     "end_time": "2024-04-27T07:40:25.326523Z",
     "start_time": "2024-04-27T07:40:25.313503Z"
    }
   },
   "id": "aadc1063f98b1444",
   "outputs": [
    {
     "data": {
      "text/plain": [
       "<paho.mqtt.client.MQTTMessageInfo at 0x7f69c85a80>"
      ]
     },
     "execution_count": 9,
     "metadata": {},
     "output_type": "execute_result"
    }
   ],
   "execution_count": 9
  },
  {
   "cell_type": "code",
   "source": [
    "# close connection\n",
    "client.loop_stop()"
   ],
   "metadata": {
    "collapsed": false,
    "ExecuteTime": {
     "end_time": "2024-04-27T07:40:33.348291Z",
     "start_time": "2024-04-27T07:40:33.044944Z"
    }
   },
   "id": "4e2d04625911467a",
   "outputs": [
    {
     "data": {
      "text/plain": [
       "<MQTTErrorCode.MQTT_ERR_SUCCESS: 0>"
      ]
     },
     "execution_count": 10,
     "metadata": {},
     "output_type": "execute_result"
    }
   ],
   "execution_count": 10
  },
  {
   "metadata": {},
   "cell_type": "markdown",
   "source": "All of these calls are now placed inside the `motor_control.py` file, which is used by the following notebooks.",
   "id": "237eba49ca364294"
  },
  {
   "metadata": {
    "ExecuteTime": {
     "end_time": "2024-04-27T07:46:38.191011Z",
     "start_time": "2024-04-27T07:46:35.133246Z"
    }
   },
   "cell_type": "code",
   "source": [
    "# Example:\n",
    "from pi.motor_control import MotorControl\n",
    "from time import sleep\n",
    "mc = MotorControl()\n",
    "mc.on_all()\n",
    "sleep(2)\n",
    "mc.stop_all()\n",
    "sleep(1)\n",
    "mc.close()"
   ],
   "id": "f73a85821d54f3a8",
   "outputs": [],
   "execution_count": 15
  },
  {
   "metadata": {},
   "cell_type": "code",
   "outputs": [],
   "execution_count": null,
   "source": "",
   "id": "b19896b8b51f6a74"
  }
 ],
 "metadata": {
  "kernelspec": {
   "display_name": "Python 3 (ipykernel)",
   "language": "python",
   "name": "python3"
  },
  "language_info": {
   "codemirror_mode": {
    "name": "ipython",
    "version": 3
   },
   "file_extension": ".py",
   "mimetype": "text/x-python",
   "name": "python",
   "nbconvert_exporter": "python",
   "pygments_lexer": "ipython3",
   "version": "3.11.2"
  }
 },
 "nbformat": 4,
 "nbformat_minor": 5
}
