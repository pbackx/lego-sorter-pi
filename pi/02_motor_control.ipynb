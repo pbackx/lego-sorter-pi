{
 "cells": [
  {
   "cell_type": "markdown",
   "id": "97c576e4-f011-44db-836b-3d998d7cfdbd",
   "metadata": {},
   "source": [
    "# Testing the motor control over MQTT\n",
    "\n",
    "This notebook tests the functionality for sending commands via MQTT to the EV3 that controls the motors."
   ]
  },
  {
   "cell_type": "code",
   "execution_count": null,
   "id": "54b1c249-433a-4571-80aa-3703cb19755c",
   "metadata": {},
   "outputs": [],
   "source": []
  }
 ],
 "metadata": {
  "kernelspec": {
   "display_name": "Python 3 (ipykernel)",
   "language": "python",
   "name": "python3"
  },
  "language_info": {
   "codemirror_mode": {
    "name": "ipython",
    "version": 3
   },
   "file_extension": ".py",
   "mimetype": "text/x-python",
   "name": "python",
   "nbconvert_exporter": "python",
   "pygments_lexer": "ipython3",
   "version": "3.11.2"
  }
 },
 "nbformat": 4,
 "nbformat_minor": 5
}
