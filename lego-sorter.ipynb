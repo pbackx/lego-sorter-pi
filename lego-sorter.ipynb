{
 "cells": [
  {
   "cell_type": "markdown",
   "id": "twelve-event",
   "metadata": {
    "tags": []
   },
   "source": [
    "# Introduction\n",
    "\n",
    "This code should be run on a Raspberry Pi that is connected to the high quality cam.\n",
    "It will create images in the data folder."
   ]
  },
  {
   "cell_type": "code",
   "execution_count": 1,
   "id": "disturbed-rochester",
   "metadata": {},
   "source": [
    "import cv2\n",
    "from datetime import datetime\n",
    "from io import BytesIO\n",
    "import ipywidgets\n",
    "from IPython.display import display\n",
    "from matplotlib import pyplot as plt\n",
    "import numpy as np\n",
    "from picamera import PiCamera\n",
    "import requests\n",
    "from time import sleep\n",
    "\n",
    "from motor_control import MotorControl"
   ],
   "outputs": []
  },
  {
   "cell_type": "code",
   "execution_count": 2,
   "id": "personal-measurement",
   "metadata": {},
   "source": [
    "img=cv2.imread('gerald-way-umbrella-academy-1.jpg')"
   ],
   "outputs": []
  },
  {
   "cell_type": "code",
   "execution_count": 3,
   "id": "decent-uncle",
   "metadata": {},
   "source": [
    "img_clr = cv2.cvtColor(img, cv2.COLOR_BGR2RGBA)\n",
    "plt.imshow(img_clr)"
   ],
   "outputs": []
  },
  {
   "cell_type": "code",
   "execution_count": 4,
   "id": "laughing-thousand",
   "metadata": {},
   "source": [
    "camera = PiCamera()\n",
    "camera.resolution = (640,480)\n",
    "camera.start_preview()"
   ],
   "outputs": []
  },
  {
   "cell_type": "code",
   "execution_count": 5,
   "id": "harmful-begin",
   "metadata": {},
   "source": [
    "# Using video capture greatly speeds up the responsiveness (quality is less of course)\n",
    "# It is possible to capture even faster using capture_sequence\n",
    "# Documentation is on the following URL, since it complicates the code, it's probably best to leave this as a last resort\n",
    "# https://picamera.readthedocs.io/en/release-1.13/recipes2.html#rapid-capture-and-processing\n",
    "stream = BytesIO()\n",
    "camera.capture(stream, format='jpeg', use_video_port=True)"
   ],
   "outputs": []
  },
  {
   "cell_type": "code",
   "execution_count": 6,
   "id": "numerical-musician",
   "metadata": {},
   "source": [
    "# this code shows the more general stream capturing, however it's much easier to cirectly capture to an array\n",
    "# See the update_image function below\n",
    "stream.seek(0)\n",
    "cam_img = cv2.imdecode(np.frombuffer(stream.read(), np.uint8), 1)\n",
    "cam_img_clr = cv2.cvtColor(cam_img, cv2.COLOR_BGR2RGBA)"
   ],
   "outputs": []
  },
  {
   "cell_type": "code",
   "execution_count": 7,
   "id": "occupational-butter",
   "metadata": {},
   "source": [
    "plt.imshow(cam_img_clr)"
   ],
   "outputs": []
  },
  {
   "cell_type": "code",
   "execution_count": 8,
   "id": "sustained-chick",
   "metadata": {},
   "source": [
    "def bytes_to_jpg(img):\n",
    "    return bytes(cv2.imencode('.jpg', img)[1])"
   ],
   "outputs": []
  },
  {
   "cell_type": "code",
   "execution_count": 9,
   "id": "solar-shareware",
   "metadata": {},
   "source": [
    "image_widget = ipywidgets.Image(format='jpeg')\n",
    "image_widget.value = bytes_to_jpg(cam_img_clr)\n",
    "display(image_widget)"
   ],
   "outputs": []
  },
  {
   "cell_type": "code",
   "execution_count": 10,
   "id": "built-agriculture",
   "metadata": {},
   "source": [
    "processed_widget = ipywidgets.Image(format='jpeg')\n",
    "display(processed_widget)"
   ],
   "outputs": []
  },
  {
   "cell_type": "code",
   "execution_count": 13,
   "id": "understood-heading",
   "metadata": {},
   "source": [
    "motor_control = MotorControl('192.168.50.222', 80)"
   ],
   "outputs": []
  },
  {
   "cell_type": "code",
   "execution_count": 14,
   "id": "danish-estate",
   "metadata": {},
   "source": [
    "# use this to position the buckets correctly:\n",
    "#motor_control.move_turntable_to_next_bucket()\n",
    "#motor_control.color_sensor.reflected_light_intensity"
   ],
   "outputs": []
  },
  {
   "cell_type": "code",
   "execution_count": 15,
   "id": "textile-bargain",
   "metadata": {},
   "source": [
    "def write_image(image_bytes, prefix = ''):\n",
    "    filename = \"data/new/\" + prefix + datetime.now().strftime(\"%Y%m%d%H%M%S\") + \".jpg\"\n",
    "    with open(filename, \"wb\") as file:\n",
    "       file.write(image_bytes)\n",
    "    return filename"
   ],
   "outputs": []
  },
  {
   "cell_type": "code",
   "execution_count": 16,
   "id": "organizational-respondent",
   "metadata": {},
   "source": [
    "top_border = 100\n",
    "bottom_border = 40\n",
    "\n",
    "def take_picture():\n",
    "    cam_img = np.empty((640*480*3,), dtype=np.uint8)\n",
    "    camera.capture(cam_img, format='bgr', use_video_port=True)\n",
    "    return cam_img.reshape((480,640,3))\n",
    "    \n",
    "def pre_process_image(image):\n",
    "    without_borders = image[top_border:480-bottom_border,:]\n",
    "    gray = cv2.cvtColor(without_borders, cv2.COLOR_BGR2GRAY)\n",
    "    gray = cv2.GaussianBlur(gray, (21, 21), 0)\n",
    "    return gray\n",
    "    \n",
    "first_picture = take_picture()\n",
    "write_image(bytes_to_jpg(first_picture), 'reference')\n",
    "first_image = pre_process_image(first_picture)"
   ],
   "outputs": []
  },
  {
   "cell_type": "code",
   "execution_count": 17,
   "id": "bored-checkout",
   "metadata": {},
   "source": [
    "def update_image():\n",
    "    cam_img = take_picture()\n",
    "    gray = pre_process_image(cam_img)\n",
    "    \n",
    "    image_diff = cv2.absdiff(first_image, gray)\n",
    "    thresh = cv2.threshold(image_diff, 50, 255, cv2.THRESH_BINARY)[1]\n",
    "    thresh = cv2.dilate(thresh, None, iterations=2)\n",
    "    #thresh = cv.Canny(thresh, 40, 80)\n",
    "    # Find contours\n",
    "    #_, contours, hierarchy = cv.findContours(canny_output, cv.RETR_TREE, cv.CHAIN_APPROX_SIMPLE)\n",
    "\n",
    "    contours, hierarchy = cv2.findContours(thresh, cv2.RETR_TREE, cv2.CHAIN_APPROX_SIMPLE)\n",
    "    left_most_contour_x = 640\n",
    "    for c in contours:\n",
    "        # if the contour is too small, ignore it\n",
    "        if cv2.contourArea(c) < 40:\n",
    "            continue\n",
    "        # compute the bounding box for the contour, draw it on the frame,\n",
    "        # and update the text\n",
    "        (x, y, w, h) = cv2.boundingRect(c)\n",
    "        if w > 600 or w < 50:\n",
    "            continue\n",
    "        cv2.rectangle(cam_img, (x, y + top_border), (x + w, y + h + top_border), (0, 255, 0), 2)\n",
    "        if x < left_most_contour_x:\n",
    "            left_most_contour_x = x \n",
    "\n",
    "    image_widget.value = bytes_to_jpg(cam_img)\n",
    "    processed_widget.value = bytes_to_jpg(thresh)\n",
    "    return left_most_contour_x"
   ],
   "outputs": []
  },
  {
   "cell_type": "code",
   "execution_count": 18,
   "id": "prescribed-nashville",
   "metadata": {},
   "source": [
    "predict_url = \"http://192.168.50.17:5000/predict\"\n",
    "def predict(image_bytes):\n",
    "    filename = write_image(image_bytes)\n",
    "    payload={}\n",
    "    files=[\n",
    "      ('image',(filename[filename.rindex('/')+1:],open(filename,'rb'),'image/jpeg'))\n",
    "    ]\n",
    "    headers = {}\n",
    "    return requests.request(\"POST\", predict_url, headers=headers, data=payload, files=files)"
   ],
   "outputs": []
  },
  {
   "cell_type": "code",
   "execution_count": 19,
   "id": "actual-disorder",
   "metadata": {},
   "source": [
    "bucket_mapping = {\n",
    "    \"15712tile1x1withopenoclip\": 0,\n",
    "    \"3023plate1x2\": 1,\n",
    "    \"43857liftarmthick1x2\": 2\n",
    "}\n",
    "default_bucket = 3"
   ],
   "outputs": []
  },
  {
   "cell_type": "code",
   "execution_count": 28,
   "id": "plastic-alarm",
   "metadata": {},
   "source": [
    "import threading\n",
    "from time import sleep\n",
    "running = True\n",
    "def update_image_loop():\n",
    "    global running\n",
    "    motor_control.on_all()\n",
    "    while running:\n",
    "        contour_x = update_image()\n",
    "        if  contour_x < 640:\n",
    "            motor_control.stop_all()\n",
    "            sleep(0.5) # wait for brick to drop\n",
    "            contour_x = update_image()\n",
    "            motor_control.move_to_center(contour_x)\n",
    "            sleep(0.5)\n",
    "            prediction = predict(bytes_to_jpg(take_picture()))\n",
    "            print(prediction.text)\n",
    "            predicted_confidence = prediction.json()[\"confidence\"]\n",
    "            predicted_brick_type = prediction.json()[\"prediction\"]\n",
    "            if predicted_brick_type in bucket_mapping and predicted_confidence > 0.85:\n",
    "                motor_control.move_turntable(bucket_mapping[predicted_brick_type])\n",
    "            else:\n",
    "                motor_control.move_turntable(default_bucket)\n",
    "            sleep(0.5)\n",
    "            motor_control.clear_camera_belt()\n",
    "            sleep(0.5)\n",
    "            motor_control.on_all()\n",
    "    motor_control.stop_all()\n",
    "        \n",
    "t = threading.Thread(target=update_image_loop)\n",
    "t.start()"
   ],
   "outputs": []
  },
  {
   "cell_type": "code",
   "execution_count": 29,
   "id": "threaded-cisco",
   "metadata": {},
   "source": [
    "running = False\n",
    "t.join()"
   ],
   "outputs": []
  },
  {
   "cell_type": "code",
   "execution_count": 22,
   "id": "working-tsunami",
   "metadata": {},
   "source": [
    "camera.stop_preview()\n",
    "camera.close()"
   ],
   "outputs": []
  },
  {
   "cell_type": "code",
   "execution_count": 20,
   "id": "major-testimony",
   "metadata": {},
   "source": [
    "#motor_control.turntable_current_position = 0"
   ],
   "outputs": []
  },
  {
   "cell_type": "code",
   "execution_count": null,
   "id": "minor-concern",
   "metadata": {},
   "source": [],
   "outputs": []
  },
  {
   "cell_type": "code",
   "execution_count": null,
   "id": "dedicated-nation",
   "metadata": {},
   "source": [],
   "outputs": []
  }
 ],
 "metadata": {
  "kernelspec": {
   "display_name": "Python 3 (ipykernel)",
   "language": "python",
   "name": "python3"
  },
  "language_info": {
   "codemirror_mode": {
    "name": "ipython",
    "version": 3
   },
   "file_extension": ".py",
   "mimetype": "text/x-python",
   "name": "python",
   "nbconvert_exporter": "python",
   "pygments_lexer": "ipython3",
   "version": "3.11.2"
  }
 },
 "nbformat": 4,
 "nbformat_minor": 5
}
